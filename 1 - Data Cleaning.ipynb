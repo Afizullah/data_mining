{
 "cells": [
  {
   "cell_type": "code",
   "execution_count": 1,
   "metadata": {},
   "outputs": [],
   "source": [
    "import pandas as pd\n",
    "import numpy as np\n",
    "import seaborn as sns\n",
    "from matplotlib import pyplot as plt"
   ]
  },
  {
   "cell_type": "markdown",
   "metadata": {},
   "source": [
    "# Base de données Airbnb cleaned "
   ]
  },
  {
   "cell_type": "code",
   "execution_count": 2,
   "metadata": {},
   "outputs": [
    {
     "data": {
      "text/html": [
       "<div>\n",
       "<style scoped>\n",
       "    .dataframe tbody tr th:only-of-type {\n",
       "        vertical-align: middle;\n",
       "    }\n",
       "\n",
       "    .dataframe tbody tr th {\n",
       "        vertical-align: top;\n",
       "    }\n",
       "\n",
       "    .dataframe thead th {\n",
       "        text-align: right;\n",
       "    }\n",
       "</style>\n",
       "<table border=\"1\" class=\"dataframe\">\n",
       "  <thead>\n",
       "    <tr style=\"text-align: right;\">\n",
       "      <th></th>\n",
       "      <th>ID</th>\n",
       "      <th>Name</th>\n",
       "      <th>Summary</th>\n",
       "      <th>Space</th>\n",
       "      <th>Neighborhood Overview</th>\n",
       "      <th>Notes</th>\n",
       "      <th>Transit</th>\n",
       "      <th>Interaction</th>\n",
       "      <th>Host Since</th>\n",
       "      <th>Host Verifications</th>\n",
       "    </tr>\n",
       "  </thead>\n",
       "  <tbody>\n",
       "    <tr>\n",
       "      <th>0</th>\n",
       "      <td>5380461</td>\n",
       "      <td>Roland Garros, Appart. 2 p. avec balcon, Auteuil.</td>\n",
       "      <td>Appart. ascenc. 1 ch. avec lit double, cuisine...</td>\n",
       "      <td>L'appartement est situé dans le quartier résid...</td>\n",
       "      <td>J'apprécie le côté résidentiel du quartier, ca...</td>\n",
       "      <td>Nombreux commerces et restaurants à proximité.</td>\n",
       "      <td>Vous pourrez accéder à l'appartement par les l...</td>\n",
       "      <td>Je souhaite louer mon appartement à des person...</td>\n",
       "      <td>2015-02-17</td>\n",
       "      <td>email,phone,reviews</td>\n",
       "    </tr>\n",
       "    <tr>\n",
       "      <th>1</th>\n",
       "      <td>12994171</td>\n",
       "      <td>APARTMENT 100 M2</td>\n",
       "      <td>location trocadero Passy very well located ans...</td>\n",
       "      <td>la situation et la tranquillité ainsi que l'ac...</td>\n",
       "      <td>situation à 5 min à pied de la tour Eiffel et ...</td>\n",
       "      <td>NaN</td>\n",
       "      <td>métro à 3 min à pied</td>\n",
       "      <td>si vous avez des besoins particuliers ...cours...</td>\n",
       "      <td>2016-05-12</td>\n",
       "      <td>email,phone,reviews</td>\n",
       "    </tr>\n",
       "    <tr>\n",
       "      <th>2</th>\n",
       "      <td>16270986</td>\n",
       "      <td>Appartement familial église d'auteuil</td>\n",
       "      <td>Mon logement est proche de Beaugrenelle Paris,...</td>\n",
       "      <td>NaN</td>\n",
       "      <td>NaN</td>\n",
       "      <td>NaN</td>\n",
       "      <td>NaN</td>\n",
       "      <td>NaN</td>\n",
       "      <td>2016-10-25</td>\n",
       "      <td>email,phone,facebook,reviews</td>\n",
       "    </tr>\n",
       "    <tr>\n",
       "      <th>3</th>\n",
       "      <td>16267918</td>\n",
       "      <td>Studio 25m2 16e arrondissement</td>\n",
       "      <td>Petit studio situé dans le 16 e arrondissement...</td>\n",
       "      <td>NaN</td>\n",
       "      <td>Boulangerie, coiffeur, Franprix etc</td>\n",
       "      <td>NaN</td>\n",
       "      <td>Bus 72 et 22 arrêt victorien Sardou  Météo lig...</td>\n",
       "      <td>NaN</td>\n",
       "      <td>2015-12-11</td>\n",
       "      <td>email,phone,reviews</td>\n",
       "    </tr>\n",
       "    <tr>\n",
       "      <th>4</th>\n",
       "      <td>8531724</td>\n",
       "      <td>Cosy and bright flat</td>\n",
       "      <td>Nice flat, recently renovated, bright and cosy...</td>\n",
       "      <td>The flat is in the 4th floor of a secure build...</td>\n",
       "      <td>The area is very pleasant and chic. It is both...</td>\n",
       "      <td>The bedsheets and towels are included in the r...</td>\n",
       "      <td>The flat is very well located for transportati...</td>\n",
       "      <td>I will welcome you in the flat to give you the...</td>\n",
       "      <td>2014-01-28</td>\n",
       "      <td>email,phone,reviews</td>\n",
       "    </tr>\n",
       "  </tbody>\n",
       "</table>\n",
       "</div>"
      ],
      "text/plain": [
       "         ID                                               Name  \\\n",
       "0   5380461  Roland Garros, Appart. 2 p. avec balcon, Auteuil.   \n",
       "1  12994171                                   APARTMENT 100 M2   \n",
       "2  16270986              Appartement familial église d'auteuil   \n",
       "3  16267918                     Studio 25m2 16e arrondissement   \n",
       "4   8531724                               Cosy and bright flat   \n",
       "\n",
       "                                             Summary  \\\n",
       "0  Appart. ascenc. 1 ch. avec lit double, cuisine...   \n",
       "1  location trocadero Passy very well located ans...   \n",
       "2  Mon logement est proche de Beaugrenelle Paris,...   \n",
       "3  Petit studio situé dans le 16 e arrondissement...   \n",
       "4  Nice flat, recently renovated, bright and cosy...   \n",
       "\n",
       "                                               Space  \\\n",
       "0  L'appartement est situé dans le quartier résid...   \n",
       "1  la situation et la tranquillité ainsi que l'ac...   \n",
       "2                                                NaN   \n",
       "3                                                NaN   \n",
       "4  The flat is in the 4th floor of a secure build...   \n",
       "\n",
       "                               Neighborhood Overview  \\\n",
       "0  J'apprécie le côté résidentiel du quartier, ca...   \n",
       "1  situation à 5 min à pied de la tour Eiffel et ...   \n",
       "2                                                NaN   \n",
       "3                Boulangerie, coiffeur, Franprix etc   \n",
       "4  The area is very pleasant and chic. It is both...   \n",
       "\n",
       "                                               Notes  \\\n",
       "0     Nombreux commerces et restaurants à proximité.   \n",
       "1                                                NaN   \n",
       "2                                                NaN   \n",
       "3                                                NaN   \n",
       "4  The bedsheets and towels are included in the r...   \n",
       "\n",
       "                                             Transit  \\\n",
       "0  Vous pourrez accéder à l'appartement par les l...   \n",
       "1                               métro à 3 min à pied   \n",
       "2                                                NaN   \n",
       "3  Bus 72 et 22 arrêt victorien Sardou  Météo lig...   \n",
       "4  The flat is very well located for transportati...   \n",
       "\n",
       "                                         Interaction  Host Since  \\\n",
       "0  Je souhaite louer mon appartement à des person...  2015-02-17   \n",
       "1  si vous avez des besoins particuliers ...cours...  2016-05-12   \n",
       "2                                                NaN  2016-10-25   \n",
       "3                                                NaN  2015-12-11   \n",
       "4  I will welcome you in the flat to give you the...  2014-01-28   \n",
       "\n",
       "             Host Verifications  \n",
       "0           email,phone,reviews  \n",
       "1           email,phone,reviews  \n",
       "2  email,phone,facebook,reviews  \n",
       "3           email,phone,reviews  \n",
       "4           email,phone,reviews  "
      ]
     },
     "execution_count": 2,
     "metadata": {},
     "output_type": "execute_result"
    }
   ],
   "source": [
    "df_airbnb = pd.read_csv('data_cleaned.csv',index_col=0)\n",
    "df_airbnb[df_airbnb.columns[:10]].head()"
   ]
  },
  {
   "cell_type": "code",
   "execution_count": 3,
   "metadata": {},
   "outputs": [
    {
     "data": {
      "text/html": [
       "<div>\n",
       "<style scoped>\n",
       "    .dataframe tbody tr th:only-of-type {\n",
       "        vertical-align: middle;\n",
       "    }\n",
       "\n",
       "    .dataframe tbody tr th {\n",
       "        vertical-align: top;\n",
       "    }\n",
       "\n",
       "    .dataframe thead th {\n",
       "        text-align: right;\n",
       "    }\n",
       "</style>\n",
       "<table border=\"1\" class=\"dataframe\">\n",
       "  <thead>\n",
       "    <tr style=\"text-align: right;\">\n",
       "      <th></th>\n",
       "      <th>Neighbourhood Cleansed</th>\n",
       "      <th>Property Type</th>\n",
       "      <th>Room Type</th>\n",
       "      <th>Accommodates</th>\n",
       "      <th>Bathrooms</th>\n",
       "      <th>Bedrooms</th>\n",
       "      <th>Beds</th>\n",
       "      <th>Bed Type</th>\n",
       "      <th>Amenities</th>\n",
       "      <th>Price</th>\n",
       "    </tr>\n",
       "  </thead>\n",
       "  <tbody>\n",
       "    <tr>\n",
       "      <th>0</th>\n",
       "      <td>Passy</td>\n",
       "      <td>Apartment</td>\n",
       "      <td>Entire home/apt</td>\n",
       "      <td>2</td>\n",
       "      <td>1.0</td>\n",
       "      <td>1.0</td>\n",
       "      <td>1.0</td>\n",
       "      <td>Real Bed</td>\n",
       "      <td>TV,Internet,Wireless Internet,Kitchen,Elevator...</td>\n",
       "      <td>50.0</td>\n",
       "    </tr>\n",
       "    <tr>\n",
       "      <th>1</th>\n",
       "      <td>Passy</td>\n",
       "      <td>Apartment</td>\n",
       "      <td>Entire home/apt</td>\n",
       "      <td>5</td>\n",
       "      <td>2.0</td>\n",
       "      <td>2.0</td>\n",
       "      <td>2.0</td>\n",
       "      <td>Real Bed</td>\n",
       "      <td>TV,Cable TV,Internet,Wireless Internet,Wheelch...</td>\n",
       "      <td>250.0</td>\n",
       "    </tr>\n",
       "    <tr>\n",
       "      <th>2</th>\n",
       "      <td>Passy</td>\n",
       "      <td>Apartment</td>\n",
       "      <td>Entire home/apt</td>\n",
       "      <td>7</td>\n",
       "      <td>1.5</td>\n",
       "      <td>2.0</td>\n",
       "      <td>5.0</td>\n",
       "      <td>Real Bed</td>\n",
       "      <td>TV,Wireless Internet,Air conditioning,Kitchen,...</td>\n",
       "      <td>165.0</td>\n",
       "    </tr>\n",
       "    <tr>\n",
       "      <th>3</th>\n",
       "      <td>Passy</td>\n",
       "      <td>Apartment</td>\n",
       "      <td>Entire home/apt</td>\n",
       "      <td>2</td>\n",
       "      <td>1.0</td>\n",
       "      <td>0.0</td>\n",
       "      <td>1.0</td>\n",
       "      <td>Real Bed</td>\n",
       "      <td>TV,Internet,Wireless Internet,Kitchen,Elevator...</td>\n",
       "      <td>35.0</td>\n",
       "    </tr>\n",
       "    <tr>\n",
       "      <th>4</th>\n",
       "      <td>Passy</td>\n",
       "      <td>Apartment</td>\n",
       "      <td>Entire home/apt</td>\n",
       "      <td>4</td>\n",
       "      <td>1.0</td>\n",
       "      <td>1.0</td>\n",
       "      <td>2.0</td>\n",
       "      <td>Real Bed</td>\n",
       "      <td>TV,Internet,Wireless Internet,Kitchen,Elevator...</td>\n",
       "      <td>90.0</td>\n",
       "    </tr>\n",
       "  </tbody>\n",
       "</table>\n",
       "</div>"
      ],
      "text/plain": [
       "  Neighbourhood Cleansed Property Type        Room Type  Accommodates  \\\n",
       "0                  Passy     Apartment  Entire home/apt             2   \n",
       "1                  Passy     Apartment  Entire home/apt             5   \n",
       "2                  Passy     Apartment  Entire home/apt             7   \n",
       "3                  Passy     Apartment  Entire home/apt             2   \n",
       "4                  Passy     Apartment  Entire home/apt             4   \n",
       "\n",
       "   Bathrooms  Bedrooms  Beds  Bed Type  \\\n",
       "0        1.0       1.0   1.0  Real Bed   \n",
       "1        2.0       2.0   2.0  Real Bed   \n",
       "2        1.5       2.0   5.0  Real Bed   \n",
       "3        1.0       0.0   1.0  Real Bed   \n",
       "4        1.0       1.0   2.0  Real Bed   \n",
       "\n",
       "                                           Amenities  Price  \n",
       "0  TV,Internet,Wireless Internet,Kitchen,Elevator...   50.0  \n",
       "1  TV,Cable TV,Internet,Wireless Internet,Wheelch...  250.0  \n",
       "2  TV,Wireless Internet,Air conditioning,Kitchen,...  165.0  \n",
       "3  TV,Internet,Wireless Internet,Kitchen,Elevator...   35.0  \n",
       "4  TV,Internet,Wireless Internet,Kitchen,Elevator...   90.0  "
      ]
     },
     "execution_count": 3,
     "metadata": {},
     "output_type": "execute_result"
    }
   ],
   "source": [
    "df_airbnb[df_airbnb.columns[10:20]].head()"
   ]
  },
  {
   "cell_type": "code",
   "execution_count": 4,
   "metadata": {},
   "outputs": [
    {
     "data": {
      "text/html": [
       "<div>\n",
       "<style scoped>\n",
       "    .dataframe tbody tr th:only-of-type {\n",
       "        vertical-align: middle;\n",
       "    }\n",
       "\n",
       "    .dataframe tbody tr th {\n",
       "        vertical-align: top;\n",
       "    }\n",
       "\n",
       "    .dataframe thead th {\n",
       "        text-align: right;\n",
       "    }\n",
       "</style>\n",
       "<table border=\"1\" class=\"dataframe\">\n",
       "  <thead>\n",
       "    <tr style=\"text-align: right;\">\n",
       "      <th></th>\n",
       "      <th>Security Deposit</th>\n",
       "      <th>Cleaning Fee</th>\n",
       "      <th>Guests Included</th>\n",
       "      <th>Extra People</th>\n",
       "      <th>Calendar Updated</th>\n",
       "      <th>Availability 60</th>\n",
       "      <th>Review Scores Accuracy</th>\n",
       "      <th>Review Scores Cleanliness</th>\n",
       "      <th>Review Scores Checkin</th>\n",
       "      <th>Review Scores Communication</th>\n",
       "    </tr>\n",
       "  </thead>\n",
       "  <tbody>\n",
       "    <tr>\n",
       "      <th>0</th>\n",
       "      <td>500.0</td>\n",
       "      <td>30.0</td>\n",
       "      <td>1</td>\n",
       "      <td>0</td>\n",
       "      <td>4 days ago</td>\n",
       "      <td>15</td>\n",
       "      <td>7.0</td>\n",
       "      <td>8.0</td>\n",
       "      <td>9.0</td>\n",
       "      <td>9.0</td>\n",
       "    </tr>\n",
       "    <tr>\n",
       "      <th>1</th>\n",
       "      <td>750.0</td>\n",
       "      <td>90.0</td>\n",
       "      <td>4</td>\n",
       "      <td>15</td>\n",
       "      <td>today</td>\n",
       "      <td>28</td>\n",
       "      <td>10.0</td>\n",
       "      <td>10.0</td>\n",
       "      <td>10.0</td>\n",
       "      <td>10.0</td>\n",
       "    </tr>\n",
       "    <tr>\n",
       "      <th>2</th>\n",
       "      <td>200.0</td>\n",
       "      <td>30.0</td>\n",
       "      <td>1</td>\n",
       "      <td>0</td>\n",
       "      <td>today</td>\n",
       "      <td>51</td>\n",
       "      <td>10.0</td>\n",
       "      <td>10.0</td>\n",
       "      <td>10.0</td>\n",
       "      <td>10.0</td>\n",
       "    </tr>\n",
       "    <tr>\n",
       "      <th>3</th>\n",
       "      <td>94.0</td>\n",
       "      <td>0.0</td>\n",
       "      <td>1</td>\n",
       "      <td>0</td>\n",
       "      <td>4 months ago</td>\n",
       "      <td>0</td>\n",
       "      <td>10.0</td>\n",
       "      <td>10.0</td>\n",
       "      <td>10.0</td>\n",
       "      <td>10.0</td>\n",
       "    </tr>\n",
       "    <tr>\n",
       "      <th>4</th>\n",
       "      <td>500.0</td>\n",
       "      <td>30.0</td>\n",
       "      <td>2</td>\n",
       "      <td>10</td>\n",
       "      <td>6 months ago</td>\n",
       "      <td>39</td>\n",
       "      <td>10.0</td>\n",
       "      <td>10.0</td>\n",
       "      <td>10.0</td>\n",
       "      <td>10.0</td>\n",
       "    </tr>\n",
       "  </tbody>\n",
       "</table>\n",
       "</div>"
      ],
      "text/plain": [
       "   Security Deposit  Cleaning Fee  Guests Included  Extra People  \\\n",
       "0             500.0          30.0                1             0   \n",
       "1             750.0          90.0                4            15   \n",
       "2             200.0          30.0                1             0   \n",
       "3              94.0           0.0                1             0   \n",
       "4             500.0          30.0                2            10   \n",
       "\n",
       "  Calendar Updated  Availability 60  Review Scores Accuracy  \\\n",
       "0       4 days ago               15                     7.0   \n",
       "1            today               28                    10.0   \n",
       "2            today               51                    10.0   \n",
       "3     4 months ago                0                    10.0   \n",
       "4     6 months ago               39                    10.0   \n",
       "\n",
       "   Review Scores Cleanliness  Review Scores Checkin  \\\n",
       "0                        8.0                    9.0   \n",
       "1                       10.0                   10.0   \n",
       "2                       10.0                   10.0   \n",
       "3                       10.0                   10.0   \n",
       "4                       10.0                   10.0   \n",
       "\n",
       "   Review Scores Communication  \n",
       "0                          9.0  \n",
       "1                         10.0  \n",
       "2                         10.0  \n",
       "3                         10.0  \n",
       "4                         10.0  "
      ]
     },
     "execution_count": 4,
     "metadata": {},
     "output_type": "execute_result"
    }
   ],
   "source": [
    "df_airbnb[df_airbnb.columns[20:30]].head()"
   ]
  },
  {
   "cell_type": "code",
   "execution_count": 5,
   "metadata": {},
   "outputs": [
    {
     "data": {
      "text/html": [
       "<div>\n",
       "<style scoped>\n",
       "    .dataframe tbody tr th:only-of-type {\n",
       "        vertical-align: middle;\n",
       "    }\n",
       "\n",
       "    .dataframe tbody tr th {\n",
       "        vertical-align: top;\n",
       "    }\n",
       "\n",
       "    .dataframe thead th {\n",
       "        text-align: right;\n",
       "    }\n",
       "</style>\n",
       "<table border=\"1\" class=\"dataframe\">\n",
       "  <thead>\n",
       "    <tr style=\"text-align: right;\">\n",
       "      <th></th>\n",
       "      <th>Review Scores Location</th>\n",
       "      <th>Review Scores Value</th>\n",
       "      <th>Cancellation Policy</th>\n",
       "      <th>Reviews per Month</th>\n",
       "      <th>Geolocation</th>\n",
       "      <th>Features</th>\n",
       "    </tr>\n",
       "  </thead>\n",
       "  <tbody>\n",
       "    <tr>\n",
       "      <th>0</th>\n",
       "      <td>10.0</td>\n",
       "      <td>7.0</td>\n",
       "      <td>flexible</td>\n",
       "      <td>0.16</td>\n",
       "      <td>48.8445603313,2.26336692547</td>\n",
       "      <td>Host Has Profile Pic,Is Location Exact</td>\n",
       "    </tr>\n",
       "    <tr>\n",
       "      <th>1</th>\n",
       "      <td>10.0</td>\n",
       "      <td>9.0</td>\n",
       "      <td>strict</td>\n",
       "      <td>0.56</td>\n",
       "      <td>48.8580714183,2.28022090415</td>\n",
       "      <td>Host Has Profile Pic,Is Location Exact</td>\n",
       "    </tr>\n",
       "    <tr>\n",
       "      <th>2</th>\n",
       "      <td>10.0</td>\n",
       "      <td>10.0</td>\n",
       "      <td>flexible</td>\n",
       "      <td>1.00</td>\n",
       "      <td>48.8502032736,2.27083162889</td>\n",
       "      <td>Host Has Profile Pic,Is Location Exact,Instant...</td>\n",
       "    </tr>\n",
       "    <tr>\n",
       "      <th>3</th>\n",
       "      <td>9.0</td>\n",
       "      <td>10.0</td>\n",
       "      <td>moderate</td>\n",
       "      <td>1.38</td>\n",
       "      <td>48.8420130083,2.26885375663</td>\n",
       "      <td>Host Has Profile Pic,Is Location Exact</td>\n",
       "    </tr>\n",
       "    <tr>\n",
       "      <th>4</th>\n",
       "      <td>10.0</td>\n",
       "      <td>10.0</td>\n",
       "      <td>moderate</td>\n",
       "      <td>0.35</td>\n",
       "      <td>48.8410481577,2.25944805867</td>\n",
       "      <td>Host Has Profile Pic,Is Location Exact</td>\n",
       "    </tr>\n",
       "  </tbody>\n",
       "</table>\n",
       "</div>"
      ],
      "text/plain": [
       "   Review Scores Location  Review Scores Value Cancellation Policy  \\\n",
       "0                    10.0                  7.0            flexible   \n",
       "1                    10.0                  9.0              strict   \n",
       "2                    10.0                 10.0            flexible   \n",
       "3                     9.0                 10.0            moderate   \n",
       "4                    10.0                 10.0            moderate   \n",
       "\n",
       "   Reviews per Month                  Geolocation  \\\n",
       "0               0.16  48.8445603313,2.26336692547   \n",
       "1               0.56  48.8580714183,2.28022090415   \n",
       "2               1.00  48.8502032736,2.27083162889   \n",
       "3               1.38  48.8420130083,2.26885375663   \n",
       "4               0.35  48.8410481577,2.25944805867   \n",
       "\n",
       "                                            Features  \n",
       "0             Host Has Profile Pic,Is Location Exact  \n",
       "1             Host Has Profile Pic,Is Location Exact  \n",
       "2  Host Has Profile Pic,Is Location Exact,Instant...  \n",
       "3             Host Has Profile Pic,Is Location Exact  \n",
       "4             Host Has Profile Pic,Is Location Exact  "
      ]
     },
     "execution_count": 5,
     "metadata": {},
     "output_type": "execute_result"
    }
   ],
   "source": [
    "df_airbnb[df_airbnb.columns[30:]].head()"
   ]
  },
  {
   "cell_type": "markdown",
   "metadata": {},
   "source": [
    "# Préparation des données  "
   ]
  },
  {
   "cell_type": "code",
   "execution_count": 6,
   "metadata": {},
   "outputs": [],
   "source": [
    "df = df_airbnb.copy()"
   ]
  },
  {
   "cell_type": "markdown",
   "metadata": {},
   "source": [
    "## Colonne 'Calendar Updated' "
   ]
  },
  {
   "cell_type": "markdown",
   "metadata": {},
   "source": [
    "<p>Calcul du nombre de jours depuis la dernière mise à jour du calendrier\n",
    "Résultat : nombre de jours depuis lequel la dernière mise à jour a été effectuée</p>"
   ]
  },
  {
   "cell_type": "code",
   "execution_count": 7,
   "metadata": {},
   "outputs": [
    {
     "data": {
      "text/plain": [
       "0          4 days ago\n",
       "1               today\n",
       "2               today\n",
       "3        4 months ago\n",
       "4        6 months ago\n",
       "             ...     \n",
       "40039      a week ago\n",
       "40040    8 months ago\n",
       "40041      a week ago\n",
       "40042           today\n",
       "40043     3 weeks ago\n",
       "Name: Calendar Updated, Length: 40044, dtype: object"
      ]
     },
     "execution_count": 7,
     "metadata": {},
     "output_type": "execute_result"
    }
   ],
   "source": [
    "# Colonne que l'on va modifier\n",
    "df_airbnb['Calendar Updated']"
   ]
  },
  {
   "cell_type": "code",
   "execution_count": 8,
   "metadata": {},
   "outputs": [],
   "source": [
    "def Calendar_Update_toint(sentence: str) -> int:\n",
    "    \"\"\"\n",
    "    renvoie le nombre de jours depuis la dernière mise à jour du calendrier\n",
    "    \"\"\"\n",
    "    sentence = sentence.strip().lower()\n",
    "    if sentence == \"today\":\n",
    "        return 0\n",
    "    if sentence == \"yesterday\":\n",
    "        return 1\n",
    "    try:\n",
    "        number = int(sentence.split()[0])\n",
    "    except ValueError:\n",
    "        number = 1 if (sentence.split()[0] == \"a\") else None\n",
    "    if \"days\" in sentence:\n",
    "        return number\n",
    "    if \"week\" in sentence:\n",
    "        return number * 7\n",
    "    if \"month\" in sentence:\n",
    "        return number * 30\n",
    "    else:\n",
    "        return None"
   ]
  },
  {
   "cell_type": "code",
   "execution_count": 9,
   "metadata": {},
   "outputs": [
    {
     "data": {
      "text/plain": [
       "0          4.0\n",
       "1          0.0\n",
       "2          0.0\n",
       "3        120.0\n",
       "4        180.0\n",
       "         ...  \n",
       "40039      7.0\n",
       "40040    240.0\n",
       "40041      7.0\n",
       "40042      0.0\n",
       "40043     21.0\n",
       "Name: Calendar Updated, Length: 40044, dtype: float64"
      ]
     },
     "execution_count": 9,
     "metadata": {},
     "output_type": "execute_result"
    }
   ],
   "source": [
    "df_airbnb['Calendar Updated'].apply(Calendar_Update_toint)"
   ]
  },
  {
   "cell_type": "code",
   "execution_count": 10,
   "metadata": {},
   "outputs": [],
   "source": [
    "df['Calendar Updated'] = df['Calendar Updated'].apply(Calendar_Update_toint)"
   ]
  },
  {
   "cell_type": "markdown",
   "metadata": {},
   "source": [
    "## Colonne 'Host since'"
   ]
  },
  {
   "cell_type": "markdown",
   "metadata": {},
   "source": [
    "Le but est de transformer les dates auxquelles l'hôte s'est inscrit, en une colonne donnant le nombre de jours écoulés depuis l'inscription de l'hôte. \n",
    "<=> Depuis combien de jours l'hôte est-il inscrit ? "
   ]
  },
  {
   "cell_type": "code",
   "execution_count": 11,
   "metadata": {},
   "outputs": [],
   "source": [
    "from datetime import datetime"
   ]
  },
  {
   "cell_type": "code",
   "execution_count": 12,
   "metadata": {},
   "outputs": [
    {
     "data": {
      "text/plain": [
       "0        2015-02-17\n",
       "1        2016-05-12\n",
       "2        2016-10-25\n",
       "3        2015-12-11\n",
       "4        2014-01-28\n",
       "            ...    \n",
       "40039    2014-08-13\n",
       "40040    2014-11-10\n",
       "40041    2015-03-10\n",
       "40042    2012-12-19\n",
       "40043    2016-09-22\n",
       "Name: Host Since, Length: 40044, dtype: object"
      ]
     },
     "execution_count": 12,
     "metadata": {},
     "output_type": "execute_result"
    }
   ],
   "source": [
    "df_airbnb['Host Since'] "
   ]
  },
  {
   "cell_type": "code",
   "execution_count": 13,
   "metadata": {},
   "outputs": [],
   "source": [
    "# Création d'une liste qui soustraie la date d'aujourd'hui à la date à laquelle l'hôte s'est inscrit \n",
    "# Retourne le nombre jours correspondant pour chaque hôte, dans une liste \n",
    "\n",
    "def Host_Since_toint(date_inscription) -> int:\n",
    "    \"\"\"Renvoit l'ancienneté à la date du 2020/04/15\"\"\"\n",
    "    \n",
    "    today = datetime.strptime('2020/04/15',\"%Y/%m/%d\") \n",
    "    try:\n",
    "        delta = today - date_inscription\n",
    "        return delta.days\n",
    "    except:\n",
    "        return date_inscription"
   ]
  },
  {
   "cell_type": "code",
   "execution_count": 14,
   "metadata": {},
   "outputs": [],
   "source": [
    "# Conversion de la colonne 'Host since' en date\n",
    "df_airbnb['Host Since'] =  pd.to_datetime(df_airbnb['Host Since'])"
   ]
  },
  {
   "cell_type": "code",
   "execution_count": 15,
   "metadata": {},
   "outputs": [
    {
     "data": {
      "text/plain": [
       "0        1884.0\n",
       "1        1434.0\n",
       "2        1268.0\n",
       "3        1587.0\n",
       "4        2269.0\n",
       "          ...  \n",
       "40039    2072.0\n",
       "40040    1983.0\n",
       "40041    1863.0\n",
       "40042    2674.0\n",
       "40043    1301.0\n",
       "Name: Host Since, Length: 40044, dtype: float64"
      ]
     },
     "execution_count": 15,
     "metadata": {},
     "output_type": "execute_result"
    }
   ],
   "source": [
    "df_airbnb['Host Since'].apply(Host_Since_toint)"
   ]
  },
  {
   "cell_type": "code",
   "execution_count": 16,
   "metadata": {},
   "outputs": [],
   "source": [
    "df['Host Since'] =  pd.to_datetime(df['Host Since'])"
   ]
  },
  {
   "cell_type": "code",
   "execution_count": 17,
   "metadata": {},
   "outputs": [],
   "source": [
    "df['Host Since'] = df['Host Since'].apply(Host_Since_toint)"
   ]
  },
  {
   "cell_type": "markdown",
   "metadata": {},
   "source": [
    "## Colonne 'Amenities'"
   ]
  },
  {
   "cell_type": "markdown",
   "metadata": {},
   "source": [
    "Le but est de compter le nombre d'Amenities mentionné dans l'annonce. Comme recoder toutes les valeurs de Amenities en variable semble trop lourd (il y a jusqu'à une vingtaine d'Amenities mentionnées pour certaines annonces), nous allons créer une variable qui va compter le nombre d'Amenities mentionné dans l'annonce de chaque appartement Airbnb. "
   ]
  },
  {
   "cell_type": "code",
   "execution_count": 18,
   "metadata": {},
   "outputs": [],
   "source": [
    "def count(sentence : str) -> int:\n",
    "    \"\"\"Retourne le nombre d'Amenities\"\"\"\n",
    "    try:\n",
    "        return len(sentence.strip().split(','))\n",
    "    except AttributeError:\n",
    "        if isinstance(df.Amenities[0], np.int64):\n",
    "            return sentence\n",
    "        #si c'est un nan\n",
    "        else:\n",
    "            print()\n",
    "            return 0"
   ]
  },
  {
   "cell_type": "code",
   "execution_count": 19,
   "metadata": {},
   "outputs": [
    {
     "data": {
      "text/plain": [
       "TV,Cable TV,Internet,Wireless Internet,Kitchen,Heating,Family/kid friendly,Washer,Smoke detector,Carbon monoxide detector,Essentials,Shampoo,24-hour check-in,Hangers,Hair dryer,Iron,Laptop friendly workspace                                                                                                50\n",
       "TV,Cable TV,Internet,Wireless Internet,Kitchen,Heating,Family/kid friendly,Washer,Dryer,Smoke detector,Carbon monoxide detector,Essentials,Shampoo,24-hour check-in,Hangers,Hair dryer,Iron,Laptop friendly workspace                                                                                          48\n",
       "TV,Cable TV,Internet,Wireless Internet,Kitchen,Elevator in building,Buzzer/wireless intercom,Heating,Family/kid friendly,Washer,Dryer,Smoke detector,Carbon monoxide detector,Essentials,Shampoo,24-hour check-in,Hangers,Hair dryer,Iron,Laptop friendly workspace                                            47\n",
       "TV,Internet,Wireless Internet,Kitchen,Heating,Washer,Essentials                                                                                                                                                                                                                                                47\n",
       "Internet,Wireless Internet,Kitchen,Heating,Washer,Essentials                                                                                                                                                                                                                                                   43\n",
       "                                                                                                                                                                                                                                                                                                               ..\n",
       "Internet,Wireless Internet,Wheelchair accessible,Kitchen,Pets live on this property,Cat(s),Elevator in building,Buzzer/wireless intercom,Heating,Family/kid friendly,Washer,First aid kit,Essentials,Shampoo,Hangers,Hair dryer,Iron,Laptop friendly workspace,translation missing: en.hosting_amenity_50       1\n",
       "Kitchen,Elevator in building,Buzzer/wireless intercom,Heating,Family/kid friendly,Washer,Smoke detector,Essentials,Shampoo                                                                                                                                                                                      1\n",
       "TV,Internet,Wireless Internet,Kitchen,Elevator in building,Buzzer/wireless intercom,Heating,Family/kid friendly,Smoke detector,Carbon monoxide detector,Fire extinguisher,Essentials,Shampoo,24-hour check-in,Hangers,Hair dryer,Iron,Laptop friendly workspace                                                 1\n",
       "TV,Cable TV,Internet,Wireless Internet,Air conditioning,Kitchen,Smoking allowed,Pets allowed,Heating,Family/kid friendly,Washer,Dryer,Essentials,Hangers,Hair dryer,Iron,Laptop friendly workspace                                                                                                              1\n",
       "TV,Cable TV,Internet,Wireless Internet,Kitchen,Elevator in building,Heating,Family/kid friendly,Washer,Dryer,Smoke detector,Carbon monoxide detector,First aid kit,Safety card,Fire extinguisher,Essentials,Shampoo,Lock on bedroom door,Hangers,Hair dryer,Iron,Laptop friendly workspace,Private entrance     1\n",
       "Name: Amenities, Length: 31692, dtype: int64"
      ]
     },
     "execution_count": 19,
     "metadata": {},
     "output_type": "execute_result"
    }
   ],
   "source": [
    "df_airbnb['Amenities'].value_counts()"
   ]
  },
  {
   "cell_type": "code",
   "execution_count": 20,
   "metadata": {},
   "outputs": [
    {
     "name": "stdout",
     "output_type": "stream",
     "text": [
      "\n",
      "\n",
      "\n",
      "\n",
      "\n",
      "\n",
      "\n",
      "\n",
      "\n",
      "\n",
      "\n",
      "\n",
      "\n",
      "\n",
      "\n",
      "\n",
      "\n",
      "\n",
      "\n",
      "\n",
      "\n",
      "\n",
      "\n",
      "\n",
      "\n",
      "\n",
      "\n",
      "\n",
      "\n",
      "\n",
      "\n",
      "\n",
      "\n",
      "\n",
      "\n",
      "\n",
      "\n",
      "\n",
      "\n",
      "\n",
      "\n",
      "\n",
      "\n",
      "\n",
      "\n",
      "\n",
      "\n",
      "\n",
      "\n",
      "\n",
      "\n",
      "\n",
      "\n",
      "\n",
      "\n",
      "\n",
      "\n",
      "\n",
      "\n",
      "\n",
      "\n",
      "\n",
      "\n",
      "\n",
      "\n",
      "\n",
      "\n",
      "\n",
      "\n",
      "\n",
      "\n",
      "\n",
      "\n",
      "\n",
      "\n",
      "\n",
      "\n",
      "\n",
      "\n",
      "\n",
      "\n",
      "\n",
      "\n",
      "\n",
      "\n",
      "\n",
      "\n",
      "\n",
      "\n",
      "\n",
      "\n",
      "\n",
      "\n",
      "\n",
      "\n",
      "\n",
      "\n",
      "\n",
      "\n",
      "\n",
      "\n",
      "\n",
      "\n",
      "\n",
      "\n",
      "\n",
      "\n",
      "\n",
      "\n",
      "\n",
      "\n",
      "\n",
      "\n",
      "\n",
      "\n",
      "\n",
      "\n",
      "\n",
      "\n",
      "\n",
      "\n",
      "\n",
      "\n",
      "\n",
      "\n",
      "\n",
      "\n",
      "\n",
      "\n",
      "\n",
      "\n",
      "\n",
      "\n",
      "\n",
      "\n",
      "\n",
      "\n"
     ]
    },
    {
     "data": {
      "text/plain": [
       "0        14\n",
       "1        23\n",
       "2        19\n",
       "3        13\n",
       "4        15\n",
       "         ..\n",
       "40039    19\n",
       "40040    15\n",
       "40041    15\n",
       "40042    10\n",
       "40043    11\n",
       "Name: Amenities, Length: 40044, dtype: int64"
      ]
     },
     "execution_count": 20,
     "metadata": {},
     "output_type": "execute_result"
    }
   ],
   "source": [
    "df_airbnb['Amenities'].apply(count)"
   ]
  },
  {
   "cell_type": "code",
   "execution_count": 21,
   "metadata": {},
   "outputs": [
    {
     "name": "stdout",
     "output_type": "stream",
     "text": [
      "\n",
      "\n",
      "\n",
      "\n",
      "\n",
      "\n",
      "\n",
      "\n",
      "\n",
      "\n",
      "\n",
      "\n",
      "\n",
      "\n",
      "\n",
      "\n",
      "\n",
      "\n",
      "\n",
      "\n",
      "\n",
      "\n",
      "\n",
      "\n",
      "\n",
      "\n",
      "\n",
      "\n",
      "\n",
      "\n",
      "\n",
      "\n",
      "\n",
      "\n",
      "\n",
      "\n",
      "\n",
      "\n",
      "\n",
      "\n",
      "\n",
      "\n",
      "\n",
      "\n",
      "\n",
      "\n",
      "\n",
      "\n",
      "\n",
      "\n",
      "\n",
      "\n",
      "\n",
      "\n",
      "\n",
      "\n",
      "\n",
      "\n",
      "\n",
      "\n",
      "\n",
      "\n",
      "\n",
      "\n",
      "\n",
      "\n",
      "\n",
      "\n",
      "\n",
      "\n",
      "\n",
      "\n",
      "\n",
      "\n",
      "\n",
      "\n",
      "\n",
      "\n",
      "\n",
      "\n",
      "\n",
      "\n",
      "\n",
      "\n",
      "\n",
      "\n",
      "\n",
      "\n",
      "\n",
      "\n",
      "\n",
      "\n",
      "\n",
      "\n",
      "\n",
      "\n",
      "\n",
      "\n",
      "\n",
      "\n",
      "\n",
      "\n",
      "\n",
      "\n",
      "\n",
      "\n",
      "\n",
      "\n",
      "\n",
      "\n",
      "\n",
      "\n",
      "\n",
      "\n",
      "\n",
      "\n",
      "\n",
      "\n",
      "\n",
      "\n",
      "\n",
      "\n",
      "\n",
      "\n",
      "\n",
      "\n",
      "\n",
      "\n",
      "\n",
      "\n",
      "\n",
      "\n",
      "\n",
      "\n",
      "\n",
      "\n",
      "\n"
     ]
    }
   ],
   "source": [
    "df['Amenities'] =  df['Amenities'].apply(count)"
   ]
  },
  {
   "cell_type": "markdown",
   "metadata": {},
   "source": [
    "## Colonne 'Host verifications'"
   ]
  },
  {
   "cell_type": "markdown",
   "metadata": {},
   "source": [
    "Le but est de compter le nombre d'éléments que l'hôte a fourni a Airbnb, qui prouvent son identité.  "
   ]
  },
  {
   "cell_type": "code",
   "execution_count": 22,
   "metadata": {},
   "outputs": [
    {
     "name": "stdout",
     "output_type": "stream",
     "text": [
      "[3, 3, 4, 3, 3, 4, 4, 4, 5, 3]\n"
     ]
    }
   ],
   "source": [
    "# Comptage du nombre de Host verifications; sur la base d'un comptage du nb de string séparés par des virgules\n",
    "# Retourne pour chaque annonce, le nombre de documents vérifiés par Airbnb et prouvant l'identité de l'Host, \n",
    "    #dans une liste \n",
    "\n",
    "nb_verifications = []\n",
    "\n",
    "for i in range(len(df['Host Verifications'])):\n",
    "    verifications_count = len(str(df['Host Verifications'][i]).split(','))\n",
    "    nb_verifications.append(int(verifications_count))\n",
    "\n",
    "print (nb_verifications[0:10])"
   ]
  },
  {
   "cell_type": "code",
   "execution_count": 23,
   "metadata": {},
   "outputs": [
    {
     "data": {
      "text/plain": [
       "0                             email,phone,reviews\n",
       "1                             email,phone,reviews\n",
       "2                    email,phone,facebook,reviews\n",
       "3                             email,phone,reviews\n",
       "4                             email,phone,reviews\n",
       "                           ...                   \n",
       "40039                email,phone,facebook,reviews\n",
       "40040                   email,phone,reviews,jumio\n",
       "40041                         email,phone,reviews\n",
       "40042     email,phone,reviews,jumio,government_id\n",
       "40043    email,google,reviews,jumio,government_id\n",
       "Name: Host Verifications, Length: 40044, dtype: object"
      ]
     },
     "execution_count": 23,
     "metadata": {},
     "output_type": "execute_result"
    }
   ],
   "source": [
    "df_airbnb['Host Verifications']"
   ]
  },
  {
   "cell_type": "code",
   "execution_count": 24,
   "metadata": {},
   "outputs": [
    {
     "data": {
      "text/plain": [
       "0        3\n",
       "1        3\n",
       "2        4\n",
       "3        3\n",
       "4        3\n",
       "        ..\n",
       "40039    4\n",
       "40040    4\n",
       "40041    3\n",
       "40042    5\n",
       "40043    5\n",
       "Name: Host Verifications, Length: 40044, dtype: int64"
      ]
     },
     "execution_count": 24,
     "metadata": {},
     "output_type": "execute_result"
    }
   ],
   "source": [
    "df_airbnb['Host Verifications'].apply(count)"
   ]
  },
  {
   "cell_type": "code",
   "execution_count": 25,
   "metadata": {},
   "outputs": [],
   "source": [
    "df['Host Verifications'] =  df['Host Verifications'].apply(count)"
   ]
  },
  {
   "cell_type": "markdown",
   "metadata": {},
   "source": [
    "## Colonne de texte supprimé"
   ]
  },
  {
   "cell_type": "code",
   "execution_count": 26,
   "metadata": {},
   "outputs": [],
   "source": [
    "df = df.drop(columns=['ID','Name','Summary','Space','Neighborhood Overview','Notes','Transit','Interaction'])"
   ]
  },
  {
   "cell_type": "markdown",
   "metadata": {},
   "source": [
    "## Encoding des variables qualitatives "
   ]
  },
  {
   "cell_type": "markdown",
   "metadata": {},
   "source": [
    "Transformation des modalités de la variable 'Room Type'. La nouvelle variables 'Type of Room' est créée, avec les modalités suivantes : \n",
    "' ' => 0\n",
    "'Shared Room' => 1 \n",
    "'Private Room' => 2\n",
    "'Entire home/apt' => 3"
   ]
  },
  {
   "cell_type": "code",
   "execution_count": 27,
   "metadata": {},
   "outputs": [
    {
     "data": {
      "text/plain": [
       "Entire home/apt    34740\n",
       "Private room        4927\n",
       "Shared room          377\n",
       "Name: Room Type, dtype: int64"
      ]
     },
     "execution_count": 27,
     "metadata": {},
     "output_type": "execute_result"
    }
   ],
   "source": [
    "df_airbnb['Room Type'].value_counts()"
   ]
  },
  {
   "cell_type": "code",
   "execution_count": 28,
   "metadata": {},
   "outputs": [],
   "source": [
    "def Room_type_toint(room: str) -> int:\n",
    "    \"\"\"\n",
    "    ranking des types de room\n",
    "    \"\"\"\n",
    "    try:\n",
    "        dico = {\n",
    "            \"Entire home/apt\" : 3,\n",
    "            \"Private room\" : 2,\n",
    "            \"Shared room\" : 1\n",
    "        }\n",
    "    \n",
    "        return dico[room.strip()]\n",
    "    except:\n",
    "        return room\n"
   ]
  },
  {
   "cell_type": "code",
   "execution_count": 29,
   "metadata": {},
   "outputs": [
    {
     "data": {
      "text/plain": [
       "3    34740\n",
       "2     4927\n",
       "1      377\n",
       "Name: Room Type, dtype: int64"
      ]
     },
     "execution_count": 29,
     "metadata": {},
     "output_type": "execute_result"
    }
   ],
   "source": [
    "df_airbnb['Room Type'].apply(Room_type_toint).value_counts()"
   ]
  },
  {
   "cell_type": "code",
   "execution_count": 30,
   "metadata": {},
   "outputs": [],
   "source": [
    "df['Room Type'] = df['Room Type'].apply(Room_type_toint)"
   ]
  },
  {
   "cell_type": "markdown",
   "metadata": {},
   "source": [
    "# Bed Type"
   ]
  },
  {
   "cell_type": "code",
   "execution_count": 31,
   "metadata": {},
   "outputs": [
    {
     "data": {
      "text/plain": [
       "Real Bed         35659\n",
       "Pull-out Sofa     3366\n",
       "Couch              706\n",
       "Futon              293\n",
       "Airbed              20\n",
       "Name: Bed Type, dtype: int64"
      ]
     },
     "execution_count": 31,
     "metadata": {},
     "output_type": "execute_result"
    }
   ],
   "source": [
    "df_airbnb['Bed Type'].value_counts()"
   ]
  },
  {
   "cell_type": "code",
   "execution_count": 32,
   "metadata": {},
   "outputs": [],
   "source": [
    "def Bed_type_toint(bed: str) -> int:\n",
    "    \"\"\"\n",
    "    ranking des types de room\n",
    "    \"\"\"\n",
    "    try:\n",
    "        dico = {\n",
    "            \"Airbed\" : 1,\n",
    "            \"Couch\" : 2,\n",
    "            \"Futon\" : 3,\n",
    "            \"Pull-out Sofa\": 4,\n",
    "            \"Real Bed\": 5\n",
    "        }\n",
    "    \n",
    "        return dico[bed.strip()]\n",
    "    except:\n",
    "        return room"
   ]
  },
  {
   "cell_type": "code",
   "execution_count": 33,
   "metadata": {},
   "outputs": [
    {
     "data": {
      "text/plain": [
       "5    35659\n",
       "4     3366\n",
       "2      706\n",
       "3      293\n",
       "1       20\n",
       "Name: Bed Type, dtype: int64"
      ]
     },
     "execution_count": 33,
     "metadata": {},
     "output_type": "execute_result"
    }
   ],
   "source": [
    "df_airbnb['Bed Type'].apply(Bed_type_toint).value_counts()"
   ]
  },
  {
   "cell_type": "code",
   "execution_count": 34,
   "metadata": {},
   "outputs": [],
   "source": [
    "df['Bed Type'] =  df['Bed Type'].apply(Bed_type_toint)"
   ]
  },
  {
   "cell_type": "markdown",
   "metadata": {},
   "source": [
    "# Cancellation Policy"
   ]
  },
  {
   "cell_type": "code",
   "execution_count": 35,
   "metadata": {},
   "outputs": [
    {
     "data": {
      "text/plain": [
       "strict             15634\n",
       "moderate           13032\n",
       "flexible           11374\n",
       "super_strict_30        4\n",
       "Name: Cancellation Policy, dtype: int64"
      ]
     },
     "execution_count": 35,
     "metadata": {},
     "output_type": "execute_result"
    }
   ],
   "source": [
    "df_airbnb[\"Cancellation Policy\"].value_counts()"
   ]
  },
  {
   "cell_type": "code",
   "execution_count": 36,
   "metadata": {},
   "outputs": [],
   "source": [
    "def CP_toint(cp: str) -> int:\n",
    "    \"\"\"\n",
    "    ranking des politiques d'annulations\n",
    "    \"\"\"\n",
    "    try:\n",
    "        dico = {\n",
    "            \"flexible\" : 1,\n",
    "            \"moderate\" : 2,\n",
    "            \"strict\" : 3,\n",
    "            \"super_strict_30\": 4,\n",
    "        }\n",
    "    \n",
    "        return dico[cp.strip()]\n",
    "    except:\n",
    "        return room"
   ]
  },
  {
   "cell_type": "code",
   "execution_count": 37,
   "metadata": {},
   "outputs": [
    {
     "data": {
      "text/plain": [
       "3    15634\n",
       "2    13032\n",
       "1    11374\n",
       "4        4\n",
       "Name: Cancellation Policy, dtype: int64"
      ]
     },
     "execution_count": 37,
     "metadata": {},
     "output_type": "execute_result"
    }
   ],
   "source": [
    "df_airbnb['Cancellation Policy'].apply(CP_toint).value_counts()"
   ]
  },
  {
   "cell_type": "code",
   "execution_count": 38,
   "metadata": {},
   "outputs": [],
   "source": [
    "df['Cancellation Policy'] = df['Cancellation Policy'].apply(CP_toint)"
   ]
  },
  {
   "cell_type": "markdown",
   "metadata": {},
   "source": [
    "# Neighboorhood Cleansed -> Arrondissement"
   ]
  },
  {
   "cell_type": "code",
   "execution_count": 69,
   "metadata": {},
   "outputs": [],
   "source": [
    "# insert code"
   ]
  },
  {
   "cell_type": "markdown",
   "metadata": {},
   "source": [
    " # Drop des colonnes textuels : \n",
    " \n",
    " > ID \tName \tSummary \tSpace \tNeighborhood Overview \tNotes \tTransit \tInteraction \t"
   ]
  },
  {
   "cell_type": "markdown",
   "metadata": {},
   "source": [
    "## -> nouveau dataframe \"data_cleanedV3.csv\""
   ]
  },
  {
   "cell_type": "markdown",
   "metadata": {},
   "source": [
    "# 2ème Partie\n",
    "## Enrichissement des donnés avec les points d'intérêt se trouvant dans Paris :\n",
    "> http://tour-pedia.org/about/datasets.html"
   ]
  },
  {
   "cell_type": "markdown",
   "metadata": {},
   "source": [
    "# Calcul des distances entre les appartements et les lieux touristiques"
   ]
  },
  {
   "cell_type": "code",
   "execution_count": 39,
   "metadata": {},
   "outputs": [],
   "source": [
    "import numpy as np"
   ]
  },
  {
   "cell_type": "markdown",
   "metadata": {},
   "source": [
    "## formattage du dataframe sur les points d'intérêt"
   ]
  },
  {
   "cell_type": "code",
   "execution_count": 58,
   "metadata": {},
   "outputs": [],
   "source": [
    "df_tourisme = pd.read_csv(\"paris-poi.csv\")"
   ]
  },
  {
   "cell_type": "code",
   "execution_count": 59,
   "metadata": {},
   "outputs": [],
   "source": [
    "def isfloat(name):\n",
    "  try:\n",
    "    float(name)\n",
    "    return None\n",
    "  except ValueError:\n",
    "    return name"
   ]
  },
  {
   "cell_type": "code",
   "execution_count": 60,
   "metadata": {},
   "outputs": [],
   "source": [
    "df_tourisme['name'] = df_tourisme['name'].apply(isfloat)"
   ]
  },
  {
   "cell_type": "code",
   "execution_count": 61,
   "metadata": {},
   "outputs": [],
   "source": [
    "df_tourisme = df_tourisme.dropna(subset=[\"name\"]).drop_duplicates(subset=['name'])"
   ]
  },
  {
   "cell_type": "code",
   "execution_count": 62,
   "metadata": {},
   "outputs": [],
   "source": [
    "df_tourisme = df_tourisme.drop(columns=['id','location','category','polarity','originalId', 'details','reviews'])"
   ]
  },
  {
   "cell_type": "code",
   "execution_count": 63,
   "metadata": {},
   "outputs": [],
   "source": [
    "df_tourisme['lng'] = df_tourisme['lng'].astype(float)\n",
    "df_tourisme['lat'] = df_tourisme['lat'].astype(float)"
   ]
  },
  {
   "cell_type": "code",
   "execution_count": 64,
   "metadata": {},
   "outputs": [
    {
     "data": {
      "text/html": [
       "<div>\n",
       "<style scoped>\n",
       "    .dataframe tbody tr th:only-of-type {\n",
       "        vertical-align: middle;\n",
       "    }\n",
       "\n",
       "    .dataframe tbody tr th {\n",
       "        vertical-align: top;\n",
       "    }\n",
       "\n",
       "    .dataframe thead th {\n",
       "        text-align: right;\n",
       "    }\n",
       "</style>\n",
       "<table border=\"1\" class=\"dataframe\">\n",
       "  <thead>\n",
       "    <tr style=\"text-align: right;\">\n",
       "      <th></th>\n",
       "      <th>address</th>\n",
       "      <th>lat</th>\n",
       "      <th>lng</th>\n",
       "      <th>name</th>\n",
       "      <th>subCategory</th>\n",
       "    </tr>\n",
       "  </thead>\n",
       "  <tbody>\n",
       "    <tr>\n",
       "      <th>20</th>\n",
       "      <td>Boulevard Auguste Blanqui</td>\n",
       "      <td>48.831348</td>\n",
       "      <td>2.343436</td>\n",
       "      <td>Boulevard Auguste Blanqui</td>\n",
       "      <td>Road</td>\n",
       "    </tr>\n",
       "    <tr>\n",
       "      <th>21</th>\n",
       "      <td>Boulevard Mortier</td>\n",
       "      <td>48.871116</td>\n",
       "      <td>2.408845</td>\n",
       "      <td>Boulevard Mortier</td>\n",
       "      <td>Road</td>\n",
       "    </tr>\n",
       "    <tr>\n",
       "      <th>22</th>\n",
       "      <td>Boulevard de Port-Royal</td>\n",
       "      <td>48.837422</td>\n",
       "      <td>2.346826</td>\n",
       "      <td>Boulevard de Port-Royal</td>\n",
       "      <td>Road</td>\n",
       "    </tr>\n",
       "    <tr>\n",
       "      <th>23</th>\n",
       "      <td>Rue du Télégraphe</td>\n",
       "      <td>48.873708</td>\n",
       "      <td>2.399255</td>\n",
       "      <td>Rue du Télégraphe</td>\n",
       "      <td>Road</td>\n",
       "    </tr>\n",
       "    <tr>\n",
       "      <th>25</th>\n",
       "      <td>Avenue d’Italie</td>\n",
       "      <td>48.825387</td>\n",
       "      <td>2.357490</td>\n",
       "      <td>Avenue d’Italie</td>\n",
       "      <td>Road</td>\n",
       "    </tr>\n",
       "    <tr>\n",
       "      <th>...</th>\n",
       "      <td>...</td>\n",
       "      <td>...</td>\n",
       "      <td>...</td>\n",
       "      <td>...</td>\n",
       "      <td>...</td>\n",
       "    </tr>\n",
       "    <tr>\n",
       "      <th>1855</th>\n",
       "      <td>NaN</td>\n",
       "      <td>48.881269</td>\n",
       "      <td>2.373325</td>\n",
       "      <td>Rue De Meaux</td>\n",
       "      <td>Road</td>\n",
       "    </tr>\n",
       "    <tr>\n",
       "      <th>1857</th>\n",
       "      <td>NaN</td>\n",
       "      <td>48.871659</td>\n",
       "      <td>2.403554</td>\n",
       "      <td>Avenue de la Porte de Ménilmontant</td>\n",
       "      <td>Road</td>\n",
       "    </tr>\n",
       "    <tr>\n",
       "      <th>1858</th>\n",
       "      <td>NaN</td>\n",
       "      <td>48.888160</td>\n",
       "      <td>2.379960</td>\n",
       "      <td>Rue Tandou</td>\n",
       "      <td>Road</td>\n",
       "    </tr>\n",
       "    <tr>\n",
       "      <th>1859</th>\n",
       "      <td>NaN</td>\n",
       "      <td>48.853028</td>\n",
       "      <td>2.410737</td>\n",
       "      <td>Rue des Rasselins</td>\n",
       "      <td>Road</td>\n",
       "    </tr>\n",
       "    <tr>\n",
       "      <th>1887</th>\n",
       "      <td>NaN</td>\n",
       "      <td>48.873944</td>\n",
       "      <td>2.268108</td>\n",
       "      <td>allée de Longchamp</td>\n",
       "      <td>Road</td>\n",
       "    </tr>\n",
       "  </tbody>\n",
       "</table>\n",
       "<p>317 rows × 5 columns</p>\n",
       "</div>"
      ],
      "text/plain": [
       "                        address        lat       lng  \\\n",
       "20    Boulevard Auguste Blanqui  48.831348  2.343436   \n",
       "21            Boulevard Mortier  48.871116  2.408845   \n",
       "22      Boulevard de Port-Royal  48.837422  2.346826   \n",
       "23            Rue du Télégraphe  48.873708  2.399255   \n",
       "25              Avenue d’Italie  48.825387  2.357490   \n",
       "...                         ...        ...       ...   \n",
       "1855                        NaN  48.881269  2.373325   \n",
       "1857                        NaN  48.871659  2.403554   \n",
       "1858                        NaN  48.888160  2.379960   \n",
       "1859                        NaN  48.853028  2.410737   \n",
       "1887                        NaN  48.873944  2.268108   \n",
       "\n",
       "                                    name subCategory  \n",
       "20             Boulevard Auguste Blanqui        Road  \n",
       "21                     Boulevard Mortier        Road  \n",
       "22               Boulevard de Port-Royal        Road  \n",
       "23                     Rue du Télégraphe        Road  \n",
       "25                       Avenue d’Italie        Road  \n",
       "...                                  ...         ...  \n",
       "1855                        Rue De Meaux        Road  \n",
       "1857  Avenue de la Porte de Ménilmontant        Road  \n",
       "1858                          Rue Tandou        Road  \n",
       "1859                   Rue des Rasselins        Road  \n",
       "1887                  allée de Longchamp        Road  \n",
       "\n",
       "[317 rows x 5 columns]"
      ]
     },
     "execution_count": 64,
     "metadata": {},
     "output_type": "execute_result"
    }
   ],
   "source": [
    "df_tourisme[df_tourisme[\"subCategory\"] == \"Road\"]"
   ]
  },
  {
   "cell_type": "code",
   "execution_count": 65,
   "metadata": {},
   "outputs": [
    {
     "data": {
      "text/plain": [
       "Road                            317\n",
       "Government Building             186\n",
       "Subway                          156\n",
       "Doctor's Office                 140\n",
       "Bus Station                     126\n",
       "Medical Center                  115\n",
       "Bike Rental / Bike Share         74\n",
       "Bus Line                         58\n",
       "Hospital                         48\n",
       "Dentist's Office                 43\n",
       "Convention Center                41\n",
       "Light Rail                       38\n",
       "Police Station                   38\n",
       "Library                          35\n",
       "Embassy / Consulate              28\n",
       "Train Station                    28\n",
       "Meeting Room                     27\n",
       "Boat or Ferry                    27\n",
       "Parking                          26\n",
       "Monument / Landmark              21\n",
       "City Hall                        18\n",
       "Fire Station                     16\n",
       "Laboratory                       15\n",
       "Rental Car Location              13\n",
       "Veterinarian                     12\n",
       "General Travel                   12\n",
       "Courthouse                       11\n",
       "Office                           11\n",
       "Capitol Building                  9\n",
       "Emergency Room                    8\n",
       "Event Space                       5\n",
       "Rest Area                         4\n",
       "Moving Target                     2\n",
       "Building                          2\n",
       "Conference Room                   2\n",
       "Travel Lounge                     2\n",
       "Taxi                              2\n",
       "Gym                               1\n",
       "Cemetery                          1\n",
       "Airport                           1\n",
       "Miscellaneous Shop                1\n",
       "Train                             1\n",
       "Pier                              1\n",
       "General College & University      1\n",
       "College Science Building          1\n",
       "Park                              1\n",
       "Hotel                             1\n",
       "Harbor / Marina                   1\n",
       "Housing Development               1\n",
       "Bridal Shop                       1\n",
       "Student Center                    1\n",
       "College Library                   1\n",
       "Historic Site                     1\n",
       "Eye Doctor                        1\n",
       "Home (private)                    1\n",
       "Name: subCategory, dtype: int64"
      ]
     },
     "execution_count": 65,
     "metadata": {},
     "output_type": "execute_result"
    }
   ],
   "source": [
    "df_tourisme.subCategory.value_counts()"
   ]
  },
  {
   "cell_type": "code",
   "execution_count": 66,
   "metadata": {},
   "outputs": [],
   "source": [
    "df['lat'] = df.Geolocation.apply(lambda x : float(x.split(',')[0]))"
   ]
  },
  {
   "cell_type": "code",
   "execution_count": 67,
   "metadata": {},
   "outputs": [],
   "source": [
    "df['lon'] = df.Geolocation.apply(lambda x : float(x.split(',')[1]))"
   ]
  },
  {
   "cell_type": "markdown",
   "metadata": {},
   "source": [
    "#### df_tourisme - > paris_poi.csv"
   ]
  },
  {
   "cell_type": "markdown",
   "metadata": {},
   "source": [
    "# Valeur de conversion géodésique -> km : 77.14017896147689 km/geod\n",
    "\n",
    "obtenu depuis google maps à Paris"
   ]
  },
  {
   "cell_type": "code",
   "execution_count": 50,
   "metadata": {},
   "outputs": [],
   "source": [
    "df_v3 = pd.read_csv('data_cleanedV3.csv', index_col=0)"
   ]
  },
  {
   "cell_type": "code",
   "execution_count": 51,
   "metadata": {},
   "outputs": [
    {
     "data": {
      "text/html": [
       "<div>\n",
       "<style scoped>\n",
       "    .dataframe tbody tr th:only-of-type {\n",
       "        vertical-align: middle;\n",
       "    }\n",
       "\n",
       "    .dataframe tbody tr th {\n",
       "        vertical-align: top;\n",
       "    }\n",
       "\n",
       "    .dataframe thead th {\n",
       "        text-align: right;\n",
       "    }\n",
       "</style>\n",
       "<table border=\"1\" class=\"dataframe\">\n",
       "  <thead>\n",
       "    <tr style=\"text-align: right;\">\n",
       "      <th></th>\n",
       "      <th>District</th>\n",
       "      <th>Accommodates</th>\n",
       "      <th>Bathrooms</th>\n",
       "      <th>Bedrooms</th>\n",
       "      <th>Beds</th>\n",
       "      <th>Price</th>\n",
       "      <th>Security Deposit</th>\n",
       "      <th>Cleaning Fee</th>\n",
       "      <th>Guests Included</th>\n",
       "      <th>Extra People</th>\n",
       "      <th>...</th>\n",
       "      <th>Type of property</th>\n",
       "      <th>Type of Room</th>\n",
       "      <th>Real Bed</th>\n",
       "      <th>Cancellation_Policy</th>\n",
       "      <th>Superhost</th>\n",
       "      <th>Host profile pic</th>\n",
       "      <th>Host ID verified</th>\n",
       "      <th>Instant bookable</th>\n",
       "      <th>lat</th>\n",
       "      <th>lon</th>\n",
       "    </tr>\n",
       "  </thead>\n",
       "  <tbody>\n",
       "    <tr>\n",
       "      <th>0</th>\n",
       "      <td>17</td>\n",
       "      <td>4</td>\n",
       "      <td>1.0</td>\n",
       "      <td>1.0</td>\n",
       "      <td>1.0</td>\n",
       "      <td>60.0</td>\n",
       "      <td>300.0</td>\n",
       "      <td>15.0</td>\n",
       "      <td>1</td>\n",
       "      <td>0</td>\n",
       "      <td>...</td>\n",
       "      <td>3</td>\n",
       "      <td>3</td>\n",
       "      <td>1</td>\n",
       "      <td>3</td>\n",
       "      <td>0</td>\n",
       "      <td>1</td>\n",
       "      <td>1</td>\n",
       "      <td>1</td>\n",
       "      <td>48.844560</td>\n",
       "      <td>2.263367</td>\n",
       "    </tr>\n",
       "    <tr>\n",
       "      <th>1</th>\n",
       "      <td>17</td>\n",
       "      <td>6</td>\n",
       "      <td>1.0</td>\n",
       "      <td>2.0</td>\n",
       "      <td>2.0</td>\n",
       "      <td>160.0</td>\n",
       "      <td>800.0</td>\n",
       "      <td>40.0</td>\n",
       "      <td>1</td>\n",
       "      <td>0</td>\n",
       "      <td>...</td>\n",
       "      <td>3</td>\n",
       "      <td>3</td>\n",
       "      <td>1</td>\n",
       "      <td>1</td>\n",
       "      <td>0</td>\n",
       "      <td>1</td>\n",
       "      <td>1</td>\n",
       "      <td>1</td>\n",
       "      <td>48.858071</td>\n",
       "      <td>2.280221</td>\n",
       "    </tr>\n",
       "    <tr>\n",
       "      <th>2</th>\n",
       "      <td>17</td>\n",
       "      <td>4</td>\n",
       "      <td>1.0</td>\n",
       "      <td>2.0</td>\n",
       "      <td>2.0</td>\n",
       "      <td>120.0</td>\n",
       "      <td>500.0</td>\n",
       "      <td>15.0</td>\n",
       "      <td>1</td>\n",
       "      <td>0</td>\n",
       "      <td>...</td>\n",
       "      <td>3</td>\n",
       "      <td>3</td>\n",
       "      <td>1</td>\n",
       "      <td>1</td>\n",
       "      <td>0</td>\n",
       "      <td>1</td>\n",
       "      <td>0</td>\n",
       "      <td>0</td>\n",
       "      <td>48.850203</td>\n",
       "      <td>2.270832</td>\n",
       "    </tr>\n",
       "    <tr>\n",
       "      <th>3</th>\n",
       "      <td>17</td>\n",
       "      <td>4</td>\n",
       "      <td>1.0</td>\n",
       "      <td>1.0</td>\n",
       "      <td>2.0</td>\n",
       "      <td>120.0</td>\n",
       "      <td>800.0</td>\n",
       "      <td>40.0</td>\n",
       "      <td>2</td>\n",
       "      <td>20</td>\n",
       "      <td>...</td>\n",
       "      <td>3</td>\n",
       "      <td>3</td>\n",
       "      <td>1</td>\n",
       "      <td>3</td>\n",
       "      <td>0</td>\n",
       "      <td>1</td>\n",
       "      <td>1</td>\n",
       "      <td>0</td>\n",
       "      <td>48.842013</td>\n",
       "      <td>2.268854</td>\n",
       "    </tr>\n",
       "    <tr>\n",
       "      <th>4</th>\n",
       "      <td>17</td>\n",
       "      <td>4</td>\n",
       "      <td>1.0</td>\n",
       "      <td>1.0</td>\n",
       "      <td>2.0</td>\n",
       "      <td>54.0</td>\n",
       "      <td>200.0</td>\n",
       "      <td>25.0</td>\n",
       "      <td>1</td>\n",
       "      <td>5</td>\n",
       "      <td>...</td>\n",
       "      <td>3</td>\n",
       "      <td>3</td>\n",
       "      <td>1</td>\n",
       "      <td>2</td>\n",
       "      <td>0</td>\n",
       "      <td>1</td>\n",
       "      <td>1</td>\n",
       "      <td>0</td>\n",
       "      <td>48.841048</td>\n",
       "      <td>2.259448</td>\n",
       "    </tr>\n",
       "    <tr>\n",
       "      <th>...</th>\n",
       "      <td>...</td>\n",
       "      <td>...</td>\n",
       "      <td>...</td>\n",
       "      <td>...</td>\n",
       "      <td>...</td>\n",
       "      <td>...</td>\n",
       "      <td>...</td>\n",
       "      <td>...</td>\n",
       "      <td>...</td>\n",
       "      <td>...</td>\n",
       "      <td>...</td>\n",
       "      <td>...</td>\n",
       "      <td>...</td>\n",
       "      <td>...</td>\n",
       "      <td>...</td>\n",
       "      <td>...</td>\n",
       "      <td>...</td>\n",
       "      <td>...</td>\n",
       "      <td>...</td>\n",
       "      <td>...</td>\n",
       "      <td>...</td>\n",
       "    </tr>\n",
       "    <tr>\n",
       "      <th>40039</th>\n",
       "      <td>8</td>\n",
       "      <td>5</td>\n",
       "      <td>2.0</td>\n",
       "      <td>3.0</td>\n",
       "      <td>5.0</td>\n",
       "      <td>160.0</td>\n",
       "      <td>500.0</td>\n",
       "      <td>30.0</td>\n",
       "      <td>2</td>\n",
       "      <td>25</td>\n",
       "      <td>...</td>\n",
       "      <td>3</td>\n",
       "      <td>3</td>\n",
       "      <td>1</td>\n",
       "      <td>2</td>\n",
       "      <td>1</td>\n",
       "      <td>1</td>\n",
       "      <td>0</td>\n",
       "      <td>0</td>\n",
       "      <td>48.861968</td>\n",
       "      <td>2.401986</td>\n",
       "    </tr>\n",
       "    <tr>\n",
       "      <th>40040</th>\n",
       "      <td>8</td>\n",
       "      <td>4</td>\n",
       "      <td>1.0</td>\n",
       "      <td>0.0</td>\n",
       "      <td>2.0</td>\n",
       "      <td>55.0</td>\n",
       "      <td>150.0</td>\n",
       "      <td>0.0</td>\n",
       "      <td>2</td>\n",
       "      <td>10</td>\n",
       "      <td>...</td>\n",
       "      <td>3</td>\n",
       "      <td>3</td>\n",
       "      <td>1</td>\n",
       "      <td>3</td>\n",
       "      <td>0</td>\n",
       "      <td>1</td>\n",
       "      <td>0</td>\n",
       "      <td>0</td>\n",
       "      <td>48.866443</td>\n",
       "      <td>2.396434</td>\n",
       "    </tr>\n",
       "    <tr>\n",
       "      <th>40041</th>\n",
       "      <td>8</td>\n",
       "      <td>2</td>\n",
       "      <td>1.0</td>\n",
       "      <td>1.0</td>\n",
       "      <td>1.0</td>\n",
       "      <td>50.0</td>\n",
       "      <td>0.0</td>\n",
       "      <td>0.0</td>\n",
       "      <td>1</td>\n",
       "      <td>20</td>\n",
       "      <td>...</td>\n",
       "      <td>3</td>\n",
       "      <td>2</td>\n",
       "      <td>1</td>\n",
       "      <td>2</td>\n",
       "      <td>0</td>\n",
       "      <td>1</td>\n",
       "      <td>0</td>\n",
       "      <td>0</td>\n",
       "      <td>48.866367</td>\n",
       "      <td>2.394734</td>\n",
       "    </tr>\n",
       "    <tr>\n",
       "      <th>40042</th>\n",
       "      <td>8</td>\n",
       "      <td>4</td>\n",
       "      <td>2.0</td>\n",
       "      <td>2.0</td>\n",
       "      <td>2.0</td>\n",
       "      <td>150.0</td>\n",
       "      <td>500.0</td>\n",
       "      <td>40.0</td>\n",
       "      <td>1</td>\n",
       "      <td>0</td>\n",
       "      <td>...</td>\n",
       "      <td>3</td>\n",
       "      <td>3</td>\n",
       "      <td>1</td>\n",
       "      <td>2</td>\n",
       "      <td>1</td>\n",
       "      <td>1</td>\n",
       "      <td>0</td>\n",
       "      <td>0</td>\n",
       "      <td>48.868071</td>\n",
       "      <td>2.398003</td>\n",
       "    </tr>\n",
       "    <tr>\n",
       "      <th>40043</th>\n",
       "      <td>8</td>\n",
       "      <td>7</td>\n",
       "      <td>1.5</td>\n",
       "      <td>3.0</td>\n",
       "      <td>5.0</td>\n",
       "      <td>125.0</td>\n",
       "      <td>500.0</td>\n",
       "      <td>50.0</td>\n",
       "      <td>1</td>\n",
       "      <td>0</td>\n",
       "      <td>...</td>\n",
       "      <td>3</td>\n",
       "      <td>3</td>\n",
       "      <td>1</td>\n",
       "      <td>3</td>\n",
       "      <td>0</td>\n",
       "      <td>1</td>\n",
       "      <td>1</td>\n",
       "      <td>0</td>\n",
       "      <td>48.870883</td>\n",
       "      <td>2.398600</td>\n",
       "    </tr>\n",
       "  </tbody>\n",
       "</table>\n",
       "<p>40044 rows × 27 columns</p>\n",
       "</div>"
      ],
      "text/plain": [
       "       District  Accommodates  Bathrooms  Bedrooms  Beds  Price  \\\n",
       "0            17             4        1.0       1.0   1.0   60.0   \n",
       "1            17             6        1.0       2.0   2.0  160.0   \n",
       "2            17             4        1.0       2.0   2.0  120.0   \n",
       "3            17             4        1.0       1.0   2.0  120.0   \n",
       "4            17             4        1.0       1.0   2.0   54.0   \n",
       "...         ...           ...        ...       ...   ...    ...   \n",
       "40039         8             5        2.0       3.0   5.0  160.0   \n",
       "40040         8             4        1.0       0.0   2.0   55.0   \n",
       "40041         8             2        1.0       1.0   1.0   50.0   \n",
       "40042         8             4        2.0       2.0   2.0  150.0   \n",
       "40043         8             7        1.5       3.0   5.0  125.0   \n",
       "\n",
       "       Security Deposit  Cleaning Fee  Guests Included  Extra People  ...  \\\n",
       "0                 300.0          15.0                1             0  ...   \n",
       "1                 800.0          40.0                1             0  ...   \n",
       "2                 500.0          15.0                1             0  ...   \n",
       "3                 800.0          40.0                2            20  ...   \n",
       "4                 200.0          25.0                1             5  ...   \n",
       "...                 ...           ...              ...           ...  ...   \n",
       "40039             500.0          30.0                2            25  ...   \n",
       "40040             150.0           0.0                2            10  ...   \n",
       "40041               0.0           0.0                1            20  ...   \n",
       "40042             500.0          40.0                1             0  ...   \n",
       "40043             500.0          50.0                1             0  ...   \n",
       "\n",
       "       Type of property  Type of Room  Real Bed  Cancellation_Policy  \\\n",
       "0                     3             3         1                    3   \n",
       "1                     3             3         1                    1   \n",
       "2                     3             3         1                    1   \n",
       "3                     3             3         1                    3   \n",
       "4                     3             3         1                    2   \n",
       "...                 ...           ...       ...                  ...   \n",
       "40039                 3             3         1                    2   \n",
       "40040                 3             3         1                    3   \n",
       "40041                 3             2         1                    2   \n",
       "40042                 3             3         1                    2   \n",
       "40043                 3             3         1                    3   \n",
       "\n",
       "       Superhost  Host profile pic  Host ID verified  Instant bookable  \\\n",
       "0              0                 1                 1                 1   \n",
       "1              0                 1                 1                 1   \n",
       "2              0                 1                 0                 0   \n",
       "3              0                 1                 1                 0   \n",
       "4              0                 1                 1                 0   \n",
       "...          ...               ...               ...               ...   \n",
       "40039          1                 1                 0                 0   \n",
       "40040          0                 1                 0                 0   \n",
       "40041          0                 1                 0                 0   \n",
       "40042          1                 1                 0                 0   \n",
       "40043          0                 1                 1                 0   \n",
       "\n",
       "             lat       lon  \n",
       "0      48.844560  2.263367  \n",
       "1      48.858071  2.280221  \n",
       "2      48.850203  2.270832  \n",
       "3      48.842013  2.268854  \n",
       "4      48.841048  2.259448  \n",
       "...          ...       ...  \n",
       "40039  48.861968  2.401986  \n",
       "40040  48.866443  2.396434  \n",
       "40041  48.866367  2.394734  \n",
       "40042  48.868071  2.398003  \n",
       "40043  48.870883  2.398600  \n",
       "\n",
       "[40044 rows x 27 columns]"
      ]
     },
     "execution_count": 51,
     "metadata": {},
     "output_type": "execute_result"
    }
   ],
   "source": [
    "df_v3"
   ]
  },
  {
   "cell_type": "code",
   "execution_count": 52,
   "metadata": {},
   "outputs": [],
   "source": [
    "df_tourisme = pd.read_csv(\"paris_poi.csv\", index_col=0)"
   ]
  },
  {
   "cell_type": "code",
   "execution_count": 53,
   "metadata": {},
   "outputs": [
    {
     "data": {
      "text/html": [
       "<div>\n",
       "<style scoped>\n",
       "    .dataframe tbody tr th:only-of-type {\n",
       "        vertical-align: middle;\n",
       "    }\n",
       "\n",
       "    .dataframe tbody tr th {\n",
       "        vertical-align: top;\n",
       "    }\n",
       "\n",
       "    .dataframe thead th {\n",
       "        text-align: right;\n",
       "    }\n",
       "</style>\n",
       "<table border=\"1\" class=\"dataframe\">\n",
       "  <thead>\n",
       "    <tr style=\"text-align: right;\">\n",
       "      <th></th>\n",
       "      <th>address</th>\n",
       "      <th>lat</th>\n",
       "      <th>lon</th>\n",
       "      <th>name</th>\n",
       "      <th>subCategory</th>\n",
       "    </tr>\n",
       "  </thead>\n",
       "  <tbody>\n",
       "    <tr>\n",
       "      <th>0</th>\n",
       "      <td>23 Quai Anatole France</td>\n",
       "      <td>48.862078</td>\n",
       "      <td>2.322534</td>\n",
       "      <td>Concorde Atlantique</td>\n",
       "      <td>Boat or Ferry</td>\n",
       "    </tr>\n",
       "    <tr>\n",
       "      <th>1</th>\n",
       "      <td>17 Place du Trocadéro</td>\n",
       "      <td>48.862301</td>\n",
       "      <td>2.288225</td>\n",
       "      <td>Palais de Chaillot</td>\n",
       "      <td>Monument / Landmark</td>\n",
       "    </tr>\n",
       "    <tr>\n",
       "      <th>2</th>\n",
       "      <td>Quai François Mauriac</td>\n",
       "      <td>48.833679</td>\n",
       "      <td>2.375686</td>\n",
       "      <td>Bibliothèque Nationale de France (BNF)</td>\n",
       "      <td>Library</td>\n",
       "    </tr>\n",
       "    <tr>\n",
       "      <th>3</th>\n",
       "      <td>Place Charles de Gaulle</td>\n",
       "      <td>48.873797</td>\n",
       "      <td>2.294952</td>\n",
       "      <td>Arc de Triomphe</td>\n",
       "      <td>Monument / Landmark</td>\n",
       "    </tr>\n",
       "    <tr>\n",
       "      <th>4</th>\n",
       "      <td>4 Boulevard du Palais</td>\n",
       "      <td>48.855920</td>\n",
       "      <td>2.344637</td>\n",
       "      <td>Palais de Justice de Paris</td>\n",
       "      <td>Courthouse</td>\n",
       "    </tr>\n",
       "    <tr>\n",
       "      <th>...</th>\n",
       "      <td>...</td>\n",
       "      <td>...</td>\n",
       "      <td>...</td>\n",
       "      <td>...</td>\n",
       "      <td>...</td>\n",
       "    </tr>\n",
       "    <tr>\n",
       "      <th>1729</th>\n",
       "      <td>159 Boulevard Malesherbe</td>\n",
       "      <td>48.885632</td>\n",
       "      <td>2.306501</td>\n",
       "      <td>Cabinet Dentaire - Dr Cadet &amp; Dr Bertrant</td>\n",
       "      <td>Dentist's Office</td>\n",
       "    </tr>\n",
       "    <tr>\n",
       "      <th>1730</th>\n",
       "      <td>10 Rue Civiale</td>\n",
       "      <td>48.871437</td>\n",
       "      <td>2.374117</td>\n",
       "      <td>cabinet paramedical civiale</td>\n",
       "      <td>Medical Center</td>\n",
       "    </tr>\n",
       "    <tr>\n",
       "      <th>1731</th>\n",
       "      <td>Rue Pajol</td>\n",
       "      <td>48.866977</td>\n",
       "      <td>2.353663</td>\n",
       "      <td>Bibliothèque Vaclav Havel</td>\n",
       "      <td>Library</td>\n",
       "    </tr>\n",
       "    <tr>\n",
       "      <th>1732</th>\n",
       "      <td>10 Rue Louis-Blanc</td>\n",
       "      <td>48.879165</td>\n",
       "      <td>2.369245</td>\n",
       "      <td>Consulat Chaoui - Paris X</td>\n",
       "      <td>Embassy / Consulate</td>\n",
       "    </tr>\n",
       "    <tr>\n",
       "      <th>1733</th>\n",
       "      <td>6-8 boulevard Haussmann</td>\n",
       "      <td>48.872316</td>\n",
       "      <td>2.338747</td>\n",
       "      <td>Bpifrance</td>\n",
       "      <td>Government Building</td>\n",
       "    </tr>\n",
       "  </tbody>\n",
       "</table>\n",
       "<p>1734 rows × 5 columns</p>\n",
       "</div>"
      ],
      "text/plain": [
       "                       address        lat       lon  \\\n",
       "0       23 Quai Anatole France  48.862078  2.322534   \n",
       "1        17 Place du Trocadéro  48.862301  2.288225   \n",
       "2        Quai François Mauriac  48.833679  2.375686   \n",
       "3      Place Charles de Gaulle  48.873797  2.294952   \n",
       "4        4 Boulevard du Palais  48.855920  2.344637   \n",
       "...                        ...        ...       ...   \n",
       "1729  159 Boulevard Malesherbe  48.885632  2.306501   \n",
       "1730            10 Rue Civiale  48.871437  2.374117   \n",
       "1731                 Rue Pajol  48.866977  2.353663   \n",
       "1732        10 Rue Louis-Blanc  48.879165  2.369245   \n",
       "1733   6-8 boulevard Haussmann  48.872316  2.338747   \n",
       "\n",
       "                                           name          subCategory  \n",
       "0                           Concorde Atlantique        Boat or Ferry  \n",
       "1                            Palais de Chaillot  Monument / Landmark  \n",
       "2        Bibliothèque Nationale de France (BNF)              Library  \n",
       "3                               Arc de Triomphe  Monument / Landmark  \n",
       "4                    Palais de Justice de Paris           Courthouse  \n",
       "...                                         ...                  ...  \n",
       "1729  Cabinet Dentaire - Dr Cadet & Dr Bertrant     Dentist's Office  \n",
       "1730                cabinet paramedical civiale       Medical Center  \n",
       "1731                  Bibliothèque Vaclav Havel              Library  \n",
       "1732                  Consulat Chaoui - Paris X  Embassy / Consulate  \n",
       "1733                                  Bpifrance  Government Building  \n",
       "\n",
       "[1734 rows x 5 columns]"
      ]
     },
     "execution_count": 53,
     "metadata": {},
     "output_type": "execute_result"
    }
   ],
   "source": [
    "df_tourisme"
   ]
  },
  {
   "cell_type": "code",
   "execution_count": 54,
   "metadata": {},
   "outputs": [],
   "source": [
    "def nearest(df_, i, df_t, n:int):\n",
    "    \n",
    "    \"\"\"\n",
    "    return the index in df_t of the \"n\" neareast and their distances\n",
    "    in the form (distances, indices)\n",
    "    \"\"\"\n",
    "    x = np.array([df_['lat'][i], df_['lon'][i]])\n",
    "    ys = np.array(list(zip(df_t['lat'],  df_t['lon'])))\n",
    "    #distances in km\n",
    "    distances = np.linalg.norm(x - ys, axis=1) * 77.14017896147689\n",
    "    indices = distances.argsort()[:n]\n",
    "    \n",
    "    return distances[indices], indices\n",
    "    "
   ]
  },
  {
   "cell_type": "code",
   "execution_count": 55,
   "metadata": {},
   "outputs": [
    {
     "data": {
      "text/plain": [
       "(array([0.02523825, 0.07006371, 0.07302485, 0.13816779, 0.14772719,\n",
       "        0.15944062, 0.18202589, 0.21581155, 0.24174218, 0.24667003]),\n",
       " array([1346,  165, 1029,  278,   42,  982,  659,  598,   66,  389],\n",
       "       dtype=int64))"
      ]
     },
     "execution_count": 55,
     "metadata": {},
     "output_type": "execute_result"
    }
   ],
   "source": [
    "nearest(df_v3, 10, df_tourisme, 10)"
   ]
  },
  {
   "cell_type": "code",
   "execution_count": 56,
   "metadata": {},
   "outputs": [],
   "source": [
    "def POIs_radius(df_, i:int, df_t, r):\n",
    "    \"\"\"\n",
    "    return the index in df_t of the POIs in a radius of \"r\" km alongside their distance\n",
    "    in the form (distances, indice)\n",
    "    \"\"\"\n",
    "    x = np.array([df_['lat'][i], df_['lon'][i]])\n",
    "    ys = np.array(list(zip(df_t['lat'],  df_t['lon'])))\n",
    "    #distances in km\n",
    "    distances = np.linalg.norm(x - ys, axis=1) * 77.14017896147689\n",
    "    # le nombre de poi dans un rayon de r\n",
    "    n = len(distances[distances < r])\n",
    "    indices = distances.argsort()[:n]\n",
    "\n",
    "    return distances[indices], indices"
   ]
  },
  {
   "cell_type": "code",
   "execution_count": 57,
   "metadata": {},
   "outputs": [
    {
     "data": {
      "text/plain": [
       "(array([0.02523825, 0.07006371, 0.07302485, 0.13816779, 0.14772719,\n",
       "        0.15944062, 0.18202589, 0.21581155, 0.24174218, 0.24667003]),\n",
       " array([1346,  165, 1029,  278,   42,  982,  659,  598,   66,  389],\n",
       "       dtype=int64))"
      ]
     },
     "execution_count": 57,
     "metadata": {},
     "output_type": "execute_result"
    }
   ],
   "source": [
    "POIs_radius(df_v3, 10, df_tourisme, 0.25)"
   ]
  }
 ],
 "metadata": {
  "kernelspec": {
   "display_name": "Python 3.8.1 64-bit ('mow': conda)",
   "language": "python",
   "name": "python38164bitmowcondace80877d60d2488bb6eb40f399b49885"
  },
  "language_info": {
   "codemirror_mode": {
    "name": "ipython",
    "version": 3
   },
   "file_extension": ".py",
   "mimetype": "text/x-python",
   "name": "python",
   "nbconvert_exporter": "python",
   "pygments_lexer": "ipython3",
   "version": "3.8.2"
  }
 },
 "nbformat": 4,
 "nbformat_minor": 2
}
