{
 "cells": [
  {
   "cell_type": "code",
   "execution_count": 82,
   "metadata": {},
   "outputs": [],
   "source": [
    "import pandas as pd"
   ]
  },
  {
   "cell_type": "code",
   "execution_count": 83,
   "metadata": {},
   "outputs": [],
   "source": [
    "df = pd.read_csv(\"df_v3_30_nearest_average.csv\",index_col=0)"
   ]
  },
  {
   "cell_type": "code",
   "execution_count": 84,
   "metadata": {},
   "outputs": [],
   "source": [
    "df = df.dropna()"
   ]
  },
  {
   "cell_type": "code",
   "execution_count": 85,
   "metadata": {},
   "outputs": [],
   "source": [
    "def ar_loyer(x):\n",
    "    ar_loyer_m2 = {\n",
    "    \"1\": 37.1, \"2\": 36.3, \"3\": 37.3, \"4\": 37, \"5\": 35.3, \"6\": 38.4,\n",
    "    \"7\": 36.9, \"8\": 34.6, \"9\": 33.3, \"10\": 32.7, \"11\": 32.2, \"12\": 29.2,\n",
    "    \"13\": 29, \"14\": 30.5, \"15\": 30.5, \"16\": 32.6, \"17\": 32.2, \"18\": 30.9,\n",
    "    \"19\": 27.4, \"20\": 28\n",
    "    }\n",
    "    try:\n",
    "        ar_loyer_m2[x]\n",
    "    except:\n",
    "        print(x)\n",
    "    return ar_loyer_m2[x]"
   ]
  },
  {
   "cell_type": "markdown",
   "metadata": {},
   "source": [
    "**on remplace l'arrondissement par le prix au m²**"
   ]
  },
  {
   "cell_type": "code",
   "execution_count": 86,
   "metadata": {},
   "outputs": [],
   "source": [
    "df['District'] = df['District'].apply(lambda x :ar_loyer(str(x)))"
   ]
  },
  {
   "cell_type": "code",
   "execution_count": 87,
   "metadata": {},
   "outputs": [
    {
     "name": "stdout",
     "output_type": "stream",
     "text": [
      "<class 'pandas.core.frame.DataFrame'>\n",
      "Int64Index: 40042 entries, 0 to 40043\n",
      "Data columns (total 28 columns):\n",
      " #   Column                        Non-Null Count  Dtype  \n",
      "---  ------                        --------------  -----  \n",
      " 0   District                      40042 non-null  float64\n",
      " 1   Accommodates                  40042 non-null  int64  \n",
      " 2   Bathrooms                     40042 non-null  float64\n",
      " 3   Bedrooms                      40042 non-null  float64\n",
      " 4   Beds                          40042 non-null  float64\n",
      " 5   Price                         40042 non-null  float64\n",
      " 6   Security Deposit              40042 non-null  float64\n",
      " 7   Cleaning Fee                  40042 non-null  float64\n",
      " 8   Guests Included               40042 non-null  int64  \n",
      " 9   Extra People                  40042 non-null  int64  \n",
      " 10  Availability 60               40042 non-null  int64  \n",
      " 11  Reviews per Month             40042 non-null  float64\n",
      " 12  Calendar Updated (in days)    40042 non-null  int64  \n",
      " 13  Host since (in days)          40042 non-null  float64\n",
      " 14  Number of Amenities           40042 non-null  int64  \n",
      " 15  Number of host verifications  40042 non-null  int64  \n",
      " 16  Global review score           40042 non-null  float64\n",
      " 17  Type of property              40042 non-null  int64  \n",
      " 18  Type of Room                  40042 non-null  int64  \n",
      " 19  Real Bed                      40042 non-null  int64  \n",
      " 20  Cancellation_Policy           40042 non-null  int64  \n",
      " 21  Superhost                     40042 non-null  int64  \n",
      " 22  Host profile pic              40042 non-null  int64  \n",
      " 23  Host ID verified              40042 non-null  int64  \n",
      " 24  Instant bookable              40042 non-null  int64  \n",
      " 25  lat                           40042 non-null  float64\n",
      " 26  lon                           40042 non-null  float64\n",
      " 27  30 nearest                    40042 non-null  float64\n",
      "dtypes: float64(13), int64(15)\n",
      "memory usage: 8.9 MB\n"
     ]
    }
   ],
   "source": [
    "df.info()"
   ]
  },
  {
   "cell_type": "code",
   "execution_count": 88,
   "metadata": {},
   "outputs": [
    {
     "data": {
      "text/html": [
       "<div>\n",
       "<style scoped>\n",
       "    .dataframe tbody tr th:only-of-type {\n",
       "        vertical-align: middle;\n",
       "    }\n",
       "\n",
       "    .dataframe tbody tr th {\n",
       "        vertical-align: top;\n",
       "    }\n",
       "\n",
       "    .dataframe thead th {\n",
       "        text-align: right;\n",
       "    }\n",
       "</style>\n",
       "<table border=\"1\" class=\"dataframe\">\n",
       "  <thead>\n",
       "    <tr style=\"text-align: right;\">\n",
       "      <th></th>\n",
       "      <th>District</th>\n",
       "      <th>Accommodates</th>\n",
       "      <th>Bathrooms</th>\n",
       "      <th>Bedrooms</th>\n",
       "      <th>Beds</th>\n",
       "      <th>Price</th>\n",
       "      <th>Security Deposit</th>\n",
       "      <th>Cleaning Fee</th>\n",
       "      <th>Guests Included</th>\n",
       "      <th>Extra People</th>\n",
       "      <th>...</th>\n",
       "      <th>Type of Room</th>\n",
       "      <th>Real Bed</th>\n",
       "      <th>Cancellation_Policy</th>\n",
       "      <th>Superhost</th>\n",
       "      <th>Host profile pic</th>\n",
       "      <th>Host ID verified</th>\n",
       "      <th>Instant bookable</th>\n",
       "      <th>lat</th>\n",
       "      <th>lon</th>\n",
       "      <th>30 nearest</th>\n",
       "    </tr>\n",
       "  </thead>\n",
       "  <tbody>\n",
       "    <tr>\n",
       "      <th>count</th>\n",
       "      <td>40042.000000</td>\n",
       "      <td>40042.000000</td>\n",
       "      <td>40042.000000</td>\n",
       "      <td>40042.000000</td>\n",
       "      <td>40042.000000</td>\n",
       "      <td>40042.000000</td>\n",
       "      <td>40042.000000</td>\n",
       "      <td>40042.000000</td>\n",
       "      <td>40042.000000</td>\n",
       "      <td>40042.000000</td>\n",
       "      <td>...</td>\n",
       "      <td>40042.000000</td>\n",
       "      <td>40042.000000</td>\n",
       "      <td>40042.000000</td>\n",
       "      <td>40042.000000</td>\n",
       "      <td>40042.000000</td>\n",
       "      <td>40042.000000</td>\n",
       "      <td>40042.000000</td>\n",
       "      <td>40042.000000</td>\n",
       "      <td>40042.000000</td>\n",
       "      <td>40042.000000</td>\n",
       "    </tr>\n",
       "    <tr>\n",
       "      <th>mean</th>\n",
       "      <td>32.555989</td>\n",
       "      <td>3.058564</td>\n",
       "      <td>1.084736</td>\n",
       "      <td>1.040433</td>\n",
       "      <td>1.688377</td>\n",
       "      <td>92.894311</td>\n",
       "      <td>197.294466</td>\n",
       "      <td>24.002298</td>\n",
       "      <td>1.462315</td>\n",
       "      <td>6.218496</td>\n",
       "      <td>...</td>\n",
       "      <td>2.858124</td>\n",
       "      <td>0.890490</td>\n",
       "      <td>2.106438</td>\n",
       "      <td>0.074122</td>\n",
       "      <td>0.997603</td>\n",
       "      <td>0.602218</td>\n",
       "      <td>0.221143</td>\n",
       "      <td>48.863681</td>\n",
       "      <td>2.345512</td>\n",
       "      <td>0.409773</td>\n",
       "    </tr>\n",
       "    <tr>\n",
       "      <th>std</th>\n",
       "      <td>3.039803</td>\n",
       "      <td>1.498579</td>\n",
       "      <td>0.369185</td>\n",
       "      <td>0.792114</td>\n",
       "      <td>1.058863</td>\n",
       "      <td>71.012599</td>\n",
       "      <td>212.816038</td>\n",
       "      <td>27.221128</td>\n",
       "      <td>0.943731</td>\n",
       "      <td>13.073179</td>\n",
       "      <td>...</td>\n",
       "      <td>0.374941</td>\n",
       "      <td>0.312282</td>\n",
       "      <td>0.814389</td>\n",
       "      <td>0.261973</td>\n",
       "      <td>0.048906</td>\n",
       "      <td>0.489446</td>\n",
       "      <td>0.415022</td>\n",
       "      <td>0.017911</td>\n",
       "      <td>0.032146</td>\n",
       "      <td>0.069762</td>\n",
       "    </tr>\n",
       "    <tr>\n",
       "      <th>min</th>\n",
       "      <td>27.400000</td>\n",
       "      <td>1.000000</td>\n",
       "      <td>0.000000</td>\n",
       "      <td>0.000000</td>\n",
       "      <td>0.000000</td>\n",
       "      <td>8.000000</td>\n",
       "      <td>0.000000</td>\n",
       "      <td>0.000000</td>\n",
       "      <td>1.000000</td>\n",
       "      <td>0.000000</td>\n",
       "      <td>...</td>\n",
       "      <td>1.000000</td>\n",
       "      <td>0.000000</td>\n",
       "      <td>1.000000</td>\n",
       "      <td>0.000000</td>\n",
       "      <td>0.000000</td>\n",
       "      <td>0.000000</td>\n",
       "      <td>0.000000</td>\n",
       "      <td>48.816590</td>\n",
       "      <td>2.227926</td>\n",
       "      <td>0.183167</td>\n",
       "    </tr>\n",
       "    <tr>\n",
       "      <th>25%</th>\n",
       "      <td>30.500000</td>\n",
       "      <td>2.000000</td>\n",
       "      <td>1.000000</td>\n",
       "      <td>1.000000</td>\n",
       "      <td>1.000000</td>\n",
       "      <td>54.000000</td>\n",
       "      <td>0.000000</td>\n",
       "      <td>0.000000</td>\n",
       "      <td>1.000000</td>\n",
       "      <td>0.000000</td>\n",
       "      <td>...</td>\n",
       "      <td>3.000000</td>\n",
       "      <td>1.000000</td>\n",
       "      <td>1.000000</td>\n",
       "      <td>0.000000</td>\n",
       "      <td>1.000000</td>\n",
       "      <td>0.000000</td>\n",
       "      <td>0.000000</td>\n",
       "      <td>48.850966</td>\n",
       "      <td>2.325614</td>\n",
       "      <td>0.368350</td>\n",
       "    </tr>\n",
       "    <tr>\n",
       "      <th>50%</th>\n",
       "      <td>32.200000</td>\n",
       "      <td>2.000000</td>\n",
       "      <td>1.000000</td>\n",
       "      <td>1.000000</td>\n",
       "      <td>1.000000</td>\n",
       "      <td>75.000000</td>\n",
       "      <td>150.000000</td>\n",
       "      <td>20.000000</td>\n",
       "      <td>1.000000</td>\n",
       "      <td>0.000000</td>\n",
       "      <td>...</td>\n",
       "      <td>3.000000</td>\n",
       "      <td>1.000000</td>\n",
       "      <td>2.000000</td>\n",
       "      <td>0.000000</td>\n",
       "      <td>1.000000</td>\n",
       "      <td>1.000000</td>\n",
       "      <td>0.000000</td>\n",
       "      <td>48.864366</td>\n",
       "      <td>2.348556</td>\n",
       "      <td>0.412290</td>\n",
       "    </tr>\n",
       "    <tr>\n",
       "      <th>75%</th>\n",
       "      <td>35.300000</td>\n",
       "      <td>4.000000</td>\n",
       "      <td>1.000000</td>\n",
       "      <td>1.000000</td>\n",
       "      <td>2.000000</td>\n",
       "      <td>102.000000</td>\n",
       "      <td>300.000000</td>\n",
       "      <td>38.000000</td>\n",
       "      <td>2.000000</td>\n",
       "      <td>10.000000</td>\n",
       "      <td>...</td>\n",
       "      <td>3.000000</td>\n",
       "      <td>1.000000</td>\n",
       "      <td>3.000000</td>\n",
       "      <td>0.000000</td>\n",
       "      <td>1.000000</td>\n",
       "      <td>1.000000</td>\n",
       "      <td>0.000000</td>\n",
       "      <td>48.878083</td>\n",
       "      <td>2.368972</td>\n",
       "      <td>0.449755</td>\n",
       "    </tr>\n",
       "    <tr>\n",
       "      <th>max</th>\n",
       "      <td>38.400000</td>\n",
       "      <td>16.000000</td>\n",
       "      <td>8.000000</td>\n",
       "      <td>10.000000</td>\n",
       "      <td>16.000000</td>\n",
       "      <td>999.000000</td>\n",
       "      <td>999.000000</td>\n",
       "      <td>750.000000</td>\n",
       "      <td>16.000000</td>\n",
       "      <td>753.000000</td>\n",
       "      <td>...</td>\n",
       "      <td>3.000000</td>\n",
       "      <td>1.000000</td>\n",
       "      <td>3.000000</td>\n",
       "      <td>1.000000</td>\n",
       "      <td>1.000000</td>\n",
       "      <td>1.000000</td>\n",
       "      <td>1.000000</td>\n",
       "      <td>48.901013</td>\n",
       "      <td>2.421537</td>\n",
       "      <td>2.117988</td>\n",
       "    </tr>\n",
       "  </tbody>\n",
       "</table>\n",
       "<p>8 rows × 28 columns</p>\n",
       "</div>"
      ],
      "text/plain": [
       "           District  Accommodates     Bathrooms      Bedrooms          Beds  \\\n",
       "count  40042.000000  40042.000000  40042.000000  40042.000000  40042.000000   \n",
       "mean      32.555989      3.058564      1.084736      1.040433      1.688377   \n",
       "std        3.039803      1.498579      0.369185      0.792114      1.058863   \n",
       "min       27.400000      1.000000      0.000000      0.000000      0.000000   \n",
       "25%       30.500000      2.000000      1.000000      1.000000      1.000000   \n",
       "50%       32.200000      2.000000      1.000000      1.000000      1.000000   \n",
       "75%       35.300000      4.000000      1.000000      1.000000      2.000000   \n",
       "max       38.400000     16.000000      8.000000     10.000000     16.000000   \n",
       "\n",
       "              Price  Security Deposit  Cleaning Fee  Guests Included  \\\n",
       "count  40042.000000      40042.000000  40042.000000     40042.000000   \n",
       "mean      92.894311        197.294466     24.002298         1.462315   \n",
       "std       71.012599        212.816038     27.221128         0.943731   \n",
       "min        8.000000          0.000000      0.000000         1.000000   \n",
       "25%       54.000000          0.000000      0.000000         1.000000   \n",
       "50%       75.000000        150.000000     20.000000         1.000000   \n",
       "75%      102.000000        300.000000     38.000000         2.000000   \n",
       "max      999.000000        999.000000    750.000000        16.000000   \n",
       "\n",
       "       Extra People  ...  Type of Room      Real Bed  Cancellation_Policy  \\\n",
       "count  40042.000000  ...  40042.000000  40042.000000         40042.000000   \n",
       "mean       6.218496  ...      2.858124      0.890490             2.106438   \n",
       "std       13.073179  ...      0.374941      0.312282             0.814389   \n",
       "min        0.000000  ...      1.000000      0.000000             1.000000   \n",
       "25%        0.000000  ...      3.000000      1.000000             1.000000   \n",
       "50%        0.000000  ...      3.000000      1.000000             2.000000   \n",
       "75%       10.000000  ...      3.000000      1.000000             3.000000   \n",
       "max      753.000000  ...      3.000000      1.000000             3.000000   \n",
       "\n",
       "          Superhost  Host profile pic  Host ID verified  Instant bookable  \\\n",
       "count  40042.000000      40042.000000      40042.000000      40042.000000   \n",
       "mean       0.074122          0.997603          0.602218          0.221143   \n",
       "std        0.261973          0.048906          0.489446          0.415022   \n",
       "min        0.000000          0.000000          0.000000          0.000000   \n",
       "25%        0.000000          1.000000          0.000000          0.000000   \n",
       "50%        0.000000          1.000000          1.000000          0.000000   \n",
       "75%        0.000000          1.000000          1.000000          0.000000   \n",
       "max        1.000000          1.000000          1.000000          1.000000   \n",
       "\n",
       "                lat           lon    30 nearest  \n",
       "count  40042.000000  40042.000000  40042.000000  \n",
       "mean      48.863681      2.345512      0.409773  \n",
       "std        0.017911      0.032146      0.069762  \n",
       "min       48.816590      2.227926      0.183167  \n",
       "25%       48.850966      2.325614      0.368350  \n",
       "50%       48.864366      2.348556      0.412290  \n",
       "75%       48.878083      2.368972      0.449755  \n",
       "max       48.901013      2.421537      2.117988  \n",
       "\n",
       "[8 rows x 28 columns]"
      ]
     },
     "execution_count": 88,
     "metadata": {},
     "output_type": "execute_result"
    }
   ],
   "source": [
    "df.describe()"
   ]
  },
  {
   "cell_type": "markdown",
   "metadata": {},
   "source": [
    "# Preprocessing\n",
    "\n",
    "> Les éléments utilisés dans la fonction objective d'un algorithme d'apprentissage (comme le noyau des machines à vecteurs de support ou les régularisateurs L1 et L2 des modèles linéaires) **supposent** que toutes les **entités sont centrées autour de zéro et ont une variance dans le même ordre**. Si une caractéristique a une variance de plusieurs ordres de grandeur plus grande que d'autres, elle pourrait dominer la fonction objective et empêcher l'estimateur d'apprendre correctement des autres caractéristiques comme prévu.\n",
    "\n",
    "> Ici les variables quantitatives sont : 'Accommodates', 'Bathrooms', 'Bedrooms', 'Beds', 'Price',\n",
    "       'Security Deposit', 'Cleaning Fee', 'Guests Included', 'Extra People',\n",
    "       'Availability 60', 'Reviews per Month', 'Calendar Updated (in days)',\n",
    "       'Host since (in days)', 'Number of Amenities',\n",
    "       'Number of host verifications', 'Global review score', '30 nearest'\n",
    "\n",
    "\n",
    "> Les variables catégoriels sont : 'District',\n",
    "       'Type of property', 'Type of Room', 'Real Bed', 'Cancellation_Policy',\n",
    "       'Superhost', 'Host profile pic', 'Host ID verified', 'Instant bookable',\n",
    "       'lat', 'lon'"
   ]
  },
  {
   "cell_type": "code",
   "execution_count": 89,
   "metadata": {},
   "outputs": [],
   "source": [
    "from sklearn import preprocessing\n",
    "import numpy as np"
   ]
  },
  {
   "cell_type": "code",
   "execution_count": 90,
   "metadata": {},
   "outputs": [],
   "source": [
    "X1_ = df[['District','Accommodates', 'Bathrooms', 'Bedrooms', 'Beds', 'Security Deposit', \n",
    "         'Cleaning Fee', 'Guests Included', 'Extra People', 'Availability 60', 'Reviews per Month', \n",
    "         'Calendar Updated (in days)', 'Host since (in days)', 'Number of Amenities', \n",
    "         'Number of host verifications', 'Global review score', '30 nearest']]"
   ]
  },
  {
   "cell_type": "markdown",
   "metadata": {},
   "source": [
    "(**On ne prend pas pas lat lon**)"
   ]
  },
  {
   "cell_type": "code",
   "execution_count": 91,
   "metadata": {},
   "outputs": [],
   "source": [
    "X2_ = df[['Type of property', 'Type of Room', 'Real Bed', \n",
    "         'Cancellation_Policy', 'Superhost', 'Host profile pic', \n",
    "         'Host ID verified', 'Instant bookable']]"
   ]
  },
  {
   "cell_type": "code",
   "execution_count": 92,
   "metadata": {},
   "outputs": [],
   "source": [
    "Y_ = df['Price']"
   ]
  },
  {
   "cell_type": "code",
   "execution_count": 93,
   "metadata": {},
   "outputs": [
    {
     "data": {
      "text/plain": [
       "((40042, 17), (40042, 8), (40042,), (40042, 28))"
      ]
     },
     "execution_count": 93,
     "metadata": {},
     "output_type": "execute_result"
    }
   ],
   "source": [
    "X1_.shape, X2_.shape, Y_.shape, df.shape # 17 + 8 + 1 = 28 - 2 OK "
   ]
  },
  {
   "cell_type": "code",
   "execution_count": 94,
   "metadata": {},
   "outputs": [],
   "source": [
    "X1, Y, X2 = preprocessing.scale(X1_), preprocessing.scale(Y_), X2_.copy()"
   ]
  },
  {
   "cell_type": "code",
   "execution_count": 95,
   "metadata": {},
   "outputs": [],
   "source": [
    "X = np.concatenate((X1,X2), axis=1)"
   ]
  },
  {
   "cell_type": "code",
   "execution_count": 96,
   "metadata": {},
   "outputs": [
    {
     "data": {
      "text/plain": [
       "((40042, 25), (40042,))"
      ]
     },
     "execution_count": 96,
     "metadata": {},
     "output_type": "execute_result"
    }
   ],
   "source": [
    "X.shape, Y.shape"
   ]
  },
  {
   "cell_type": "code",
   "execution_count": 97,
   "metadata": {},
   "outputs": [],
   "source": [
    "X_ = X1_.join(X2_) # utile pour avoir le nom des colonnes de X"
   ]
  },
  {
   "cell_type": "markdown",
   "metadata": {},
   "source": [
    "# 1 : Régression linéaire simple"
   ]
  },
  {
   "cell_type": "code",
   "execution_count": 98,
   "metadata": {},
   "outputs": [],
   "source": [
    "from sklearn.model_selection import train_test_split"
   ]
  },
  {
   "cell_type": "code",
   "execution_count": 99,
   "metadata": {},
   "outputs": [],
   "source": [
    "X_train, X_test, Y_train, Y_test = train_test_split(X, Y, test_size=0.2)"
   ]
  },
  {
   "cell_type": "markdown",
   "metadata": {},
   "source": [
    "Les variables quantitative sont centrés-réduites, les variables catégorielles et issues d'un one-hot-enconding sont laissées tels quels"
   ]
  },
  {
   "cell_type": "markdown",
   "metadata": {},
   "source": [
    " ## Essayons un modèle de regression linéaire"
   ]
  },
  {
   "cell_type": "code",
   "execution_count": 100,
   "metadata": {},
   "outputs": [],
   "source": [
    "from sklearn import linear_model"
   ]
  },
  {
   "cell_type": "code",
   "execution_count": 101,
   "metadata": {},
   "outputs": [],
   "source": [
    "reg = linear_model.LinearRegression()"
   ]
  },
  {
   "cell_type": "code",
   "execution_count": 102,
   "metadata": {},
   "outputs": [
    {
     "data": {
      "text/plain": [
       "LinearRegression(copy_X=True, fit_intercept=True, n_jobs=None, normalize=False)"
      ]
     },
     "execution_count": 102,
     "metadata": {},
     "output_type": "execute_result"
    }
   ],
   "source": [
    "reg.fit(X_train, Y_train)"
   ]
  },
  {
   "cell_type": "code",
   "execution_count": 103,
   "metadata": {},
   "outputs": [
    {
     "data": {
      "text/plain": [
       "13"
      ]
     },
     "execution_count": 103,
     "metadata": {},
     "output_type": "execute_result"
    }
   ],
   "source": [
    "len(reg.coef_[np.abs(reg.coef_) > 0.05])"
   ]
  },
  {
   "cell_type": "code",
   "execution_count": 104,
   "metadata": {},
   "outputs": [
    {
     "data": {
      "text/plain": [
       "array([15, 24, 10, 23, 13, 17,  9,  6, 21,  2,  0,  1,  3, 18],\n",
       "      dtype=int64)"
      ]
     },
     "execution_count": 104,
     "metadata": {},
     "output_type": "execute_result"
    }
   ],
   "source": [
    "np.abs(reg.coef_).argsort()[-14:]"
   ]
  },
  {
   "cell_type": "code",
   "execution_count": 105,
   "metadata": {},
   "outputs": [
    {
     "data": {
      "text/plain": [
       "Index(['Reviews per Month', 'Host ID verified', 'Number of Amenities',\n",
       "       'Instant bookable', 'Host profile pic', 'Type of property',\n",
       "       'Availability 60', 'Cleaning Fee', 'Superhost', 'District', 'Bathrooms',\n",
       "       'Accommodates', 'Bedrooms', 'Type of Room'],\n",
       "      dtype='object')"
      ]
     },
     "execution_count": 105,
     "metadata": {},
     "output_type": "execute_result"
    }
   ],
   "source": [
    "X_.columns[[10, 23, 13, 24, 22, 17,  9,  6, 21,  0,  2,  1,  3, 18]]"
   ]
  },
  {
   "cell_type": "markdown",
   "metadata": {},
   "source": [
    "Les colonnes suivantes sont les plus significatives par ordre croissant:\n",
    "> 'Availability 60', 'Cleaning Fee', 'Superhost', 'District', 'Bathrooms',\n",
    "       'Accommodates', 'Bedrooms', 'Type of Room'"
   ]
  },
  {
   "cell_type": "code",
   "execution_count": 132,
   "metadata": {},
   "outputs": [],
   "source": [
    "from sklearn.metrics import mean_squared_error, r2_score, mean_absolute_error"
   ]
  },
  {
   "cell_type": "code",
   "execution_count": 107,
   "metadata": {},
   "outputs": [],
   "source": [
    "Y_pred = reg.predict(X_test)"
   ]
  },
  {
   "cell_type": "code",
   "execution_count": 108,
   "metadata": {},
   "outputs": [
    {
     "name": "stdout",
     "output_type": "stream",
     "text": [
      "Mean squared error: 0.39\n",
      "Coefficient of determination: 0.62\n"
     ]
    }
   ],
   "source": [
    "print(f'Mean squared error: {mean_squared_error(Y_test, Y_pred):.2f}')\n",
    "# R²\n",
    "print(f'Coefficient of determination: {r2_score(Y_test, Y_pred):.2f}')"
   ]
  },
  {
   "cell_type": "markdown",
   "metadata": {},
   "source": [
    "## Regression Ridge + Lasso : Elastic Net"
   ]
  },
  {
   "cell_type": "markdown",
   "metadata": {},
   "source": [
    "(repris et traduit de la doc scikit-learn)\n",
    "> La régression Ridge résout certains des problèmes de la regression simple des moindres carrés ordinaires en imposant une pénalité à la taille des coefficients. Les coefficients de pénalité L2/Ridge minimisent une somme résiduelle de carrés pénalisée.\n",
    "\n",
    ">La régression Lasso est un modèle linéaire qui estime des coefficient potentiellement non signficatif. Il est utile dans certains contextes en raison de sa tendance à préférer des solutions avec moins de coefficients non nuls, réduisant efficacement le nombre de caractéristiques dont dépend la solution donnée.\n",
    "\n",
    "> Elastic Net est un mélange des deux : la fonction Objectif à minimiser devient :\n",
    "\n",
    " $$\\min_{w} { \\frac{1}{2n_{\\text{samples}}} ||X w - y||_2 ^ 2 + \\alpha \\rho ||w||_1 +\n",
    "\\frac{\\alpha(1-\\rho)}{2} ||w||_2 ^ 2}$$\n",
    "\n",
    "Pour determiner les meilleurs coefficient **alpha** et **rho** nous utiliserons des modèles de validations croisés "
   ]
  },
  {
   "cell_type": "code",
   "execution_count": 109,
   "metadata": {},
   "outputs": [],
   "source": [
    "from sklearn.linear_model import ElasticNetCV"
   ]
  },
  {
   "cell_type": "code",
   "execution_count": 110,
   "metadata": {},
   "outputs": [],
   "source": [
    "reg_ENCV = ElasticNetCV()"
   ]
  },
  {
   "cell_type": "code",
   "execution_count": 111,
   "metadata": {},
   "outputs": [
    {
     "data": {
      "text/plain": [
       "ElasticNetCV(alphas=None, copy_X=True, cv=None, eps=0.001, fit_intercept=True,\n",
       "             l1_ratio=0.5, max_iter=1000, n_alphas=100, n_jobs=None,\n",
       "             normalize=False, positive=False, precompute='auto',\n",
       "             random_state=None, selection='cyclic', tol=0.0001, verbose=0)"
      ]
     },
     "execution_count": 111,
     "metadata": {},
     "output_type": "execute_result"
    }
   ],
   "source": [
    "reg_ENCV.fit(X_train, Y_train)"
   ]
  },
  {
   "cell_type": "code",
   "execution_count": 112,
   "metadata": {},
   "outputs": [
    {
     "data": {
      "text/plain": [
       "array([ 0.22571441,  0.23751875,  0.21800818,  0.23813015,  0.02390913,\n",
       "       -0.00402532,  0.12454271, -0.00285919, -0.0065874 ,  0.11718191,\n",
       "       -0.06240151, -0.01461285,  0.01313718,  0.06745317, -0.0261732 ,\n",
       "        0.04804672,  0.00088909, -0.08665484,  0.25602767, -0.01748552,\n",
       "        0.02769102,  0.12023944, -0.        ,  0.05775388,  0.05569504])"
      ]
     },
     "execution_count": 112,
     "metadata": {},
     "output_type": "execute_result"
    }
   ],
   "source": [
    "reg_ENCV.coef_"
   ]
  },
  {
   "cell_type": "markdown",
   "metadata": {},
   "source": [
    "**la régression est moitié ridge/moitié lasso**"
   ]
  },
  {
   "cell_type": "code",
   "execution_count": null,
   "metadata": {},
   "outputs": [],
   "source": [
    "reg_ENCV."
   ]
  },
  {
   "cell_type": "code",
   "execution_count": 113,
   "metadata": {},
   "outputs": [
    {
     "data": {
      "text/plain": [
       "0.5"
      ]
     },
     "execution_count": 113,
     "metadata": {},
     "output_type": "execute_result"
    }
   ],
   "source": [
    "reg_ENCV.l1_ratio"
   ]
  },
  {
   "cell_type": "code",
   "execution_count": 114,
   "metadata": {},
   "outputs": [
    {
     "data": {
      "text/plain": [
       "0.0012200477558212482"
      ]
     },
     "execution_count": 114,
     "metadata": {},
     "output_type": "execute_result"
    }
   ],
   "source": [
    "reg_ENCV.alpha_"
   ]
  },
  {
   "cell_type": "code",
   "execution_count": 115,
   "metadata": {},
   "outputs": [
    {
     "data": {
      "text/plain": [
       "8"
      ]
     },
     "execution_count": 115,
     "metadata": {},
     "output_type": "execute_result"
    }
   ],
   "source": [
    "len(np.abs(reg_ENCV.coef_)[np.abs(reg_ENCV.coef_) > 0.1]) # nombre de coef > 0.1 en valeur absolue"
   ]
  },
  {
   "cell_type": "code",
   "execution_count": 116,
   "metadata": {},
   "outputs": [
    {
     "data": {
      "text/plain": [
       "array([ 9, 21,  6,  2,  0,  1,  3, 18], dtype=int64)"
      ]
     },
     "execution_count": 116,
     "metadata": {},
     "output_type": "execute_result"
    }
   ],
   "source": [
    "np.abs(reg_ENCV.coef_).argsort()[-8:]"
   ]
  },
  {
   "cell_type": "code",
   "execution_count": 117,
   "metadata": {},
   "outputs": [
    {
     "data": {
      "text/plain": [
       "array([0.11718191, 0.12023944, 0.12454271, 0.22571441, 0.21800818,\n",
       "       0.23751875, 0.23813015, 0.25602767])"
      ]
     },
     "execution_count": 117,
     "metadata": {},
     "output_type": "execute_result"
    }
   ],
   "source": [
    "reg_ENCV.coef_[[ 9, 21,  6,  0,  2,  1,  3, 18]]"
   ]
  },
  {
   "cell_type": "code",
   "execution_count": 118,
   "metadata": {},
   "outputs": [
    {
     "data": {
      "text/plain": [
       "Index(['Availability 60', 'Superhost', 'Cleaning Fee', 'District', 'Bathrooms',\n",
       "       'Accommodates', 'Bedrooms', 'Type of Room'],\n",
       "      dtype='object')"
      ]
     },
     "execution_count": 118,
     "metadata": {},
     "output_type": "execute_result"
    }
   ],
   "source": [
    "X_.columns[[ 9, 21,  6,  0,  2,  1,  3, 18]]"
   ]
  },
  {
   "cell_type": "markdown",
   "metadata": {},
   "source": [
    "Les colonnes suivantes les plus signficatives par ordre croissant :\n",
    "> 'Availability 60', 'Superhost', 'Cleaning Fee', 'District', 'Bathrooms',\n",
    "       'Accommodates', 'Bedrooms', 'Type of Room'"
   ]
  },
  {
   "cell_type": "code",
   "execution_count": 119,
   "metadata": {},
   "outputs": [],
   "source": [
    "Y2_pred = reg_ENCV.predict(X_test)"
   ]
  },
  {
   "cell_type": "code",
   "execution_count": 134,
   "metadata": {},
   "outputs": [
    {
     "name": "stdout",
     "output_type": "stream",
     "text": [
      "Mean squared error: 0.77\n",
      "Coefficient of determination: -0.05\n"
     ]
    }
   ],
   "source": [
    "print(f'Mean squared error: {mean_squared_error(reg_ENCV.predict(X_train), Y_train):.2f}')\n",
    "# R²\n",
    "print(f'Coefficient of determination: {r2_score(reg_ENCV.predict(X_train), Y_train):.2f}')"
   ]
  },
  {
   "cell_type": "code",
   "execution_count": 120,
   "metadata": {},
   "outputs": [
    {
     "name": "stdout",
     "output_type": "stream",
     "text": [
      "Mean squared error: 0.39\n",
      "Coefficient of determination: 0.62\n"
     ]
    }
   ],
   "source": [
    "print(f'Mean squared error: {mean_squared_error(Y_test, Y2_pred):.2f}')\n",
    "# R²\n",
    "print(f'Coefficient of determination: {r2_score(Y_test, Y2_pred):.2f}')"
   ]
  },
  {
   "cell_type": "markdown",
   "metadata": {},
   "source": [
    "# Réseau de Neurone\n",
    "\n",
    "Comme les réseaux de neurone sont très sensible à l'ordre de grandeurs des valeurs, on normalise aussi les variables catégorielles"
   ]
  },
  {
   "cell_type": "code",
   "execution_count": 121,
   "metadata": {},
   "outputs": [],
   "source": [
    "X2 = preprocessing.scale(X2_)"
   ]
  },
  {
   "cell_type": "code",
   "execution_count": 122,
   "metadata": {},
   "outputs": [],
   "source": [
    "X = np.concatenate((X1,X2), axis=1)"
   ]
  },
  {
   "cell_type": "code",
   "execution_count": 123,
   "metadata": {},
   "outputs": [],
   "source": [
    "X_train, X_test, Y_train, Y_test = train_test_split(X, Y, test_size=0.2)"
   ]
  },
  {
   "cell_type": "code",
   "execution_count": 124,
   "metadata": {},
   "outputs": [],
   "source": [
    "from sklearn.neural_network import MLPRegressor"
   ]
  },
  {
   "cell_type": "code",
   "execution_count": 125,
   "metadata": {},
   "outputs": [],
   "source": [
    "clf = MLPRegressor(hidden_layer_sizes=(30,30), verbose=True, max_iter=1000)"
   ]
  },
  {
   "cell_type": "code",
   "execution_count": 126,
   "metadata": {},
   "outputs": [
    {
     "name": "stdout",
     "output_type": "stream",
     "text": [
      "Iteration 1, loss = 0.24253733\n",
      "Iteration 2, loss = 0.17989240\n",
      "Iteration 3, loss = 0.16737889\n",
      "Iteration 4, loss = 0.15993341\n",
      "Iteration 5, loss = 0.15536963\n",
      "Iteration 6, loss = 0.15199397\n",
      "Iteration 7, loss = 0.14936066\n",
      "Iteration 8, loss = 0.14620840\n",
      "Iteration 9, loss = 0.14478924\n",
      "Iteration 10, loss = 0.14337519\n",
      "Iteration 11, loss = 0.14082081\n",
      "Iteration 12, loss = 0.13990795\n",
      "Iteration 13, loss = 0.13811208\n",
      "Iteration 14, loss = 0.13657394\n",
      "Iteration 15, loss = 0.13539382\n",
      "Iteration 16, loss = 0.13466840\n",
      "Iteration 17, loss = 0.13389187\n",
      "Iteration 18, loss = 0.13301063\n",
      "Iteration 19, loss = 0.13281148\n",
      "Iteration 20, loss = 0.13099742\n",
      "Iteration 21, loss = 0.13038223\n",
      "Iteration 22, loss = 0.12947725\n",
      "Iteration 23, loss = 0.12860046\n",
      "Iteration 24, loss = 0.12789367\n",
      "Iteration 25, loss = 0.12822164\n",
      "Iteration 26, loss = 0.12677443\n",
      "Iteration 27, loss = 0.12840031\n",
      "Iteration 28, loss = 0.12621076\n",
      "Iteration 29, loss = 0.12490004\n",
      "Iteration 30, loss = 0.12533274\n",
      "Iteration 31, loss = 0.12517267\n",
      "Iteration 32, loss = 0.12354078\n",
      "Iteration 33, loss = 0.12384117\n",
      "Iteration 34, loss = 0.12258845\n",
      "Iteration 35, loss = 0.12233268\n",
      "Iteration 36, loss = 0.12290541\n",
      "Iteration 37, loss = 0.12144081\n",
      "Iteration 38, loss = 0.12070171\n",
      "Iteration 39, loss = 0.12127647\n",
      "Iteration 40, loss = 0.11976655\n",
      "Iteration 41, loss = 0.12115637\n",
      "Iteration 42, loss = 0.11878787\n",
      "Iteration 43, loss = 0.11852149\n",
      "Iteration 44, loss = 0.11849755\n",
      "Iteration 45, loss = 0.11803959\n",
      "Iteration 46, loss = 0.11771978\n",
      "Iteration 47, loss = 0.11759181\n",
      "Iteration 48, loss = 0.11736742\n",
      "Iteration 49, loss = 0.11748994\n",
      "Iteration 50, loss = 0.11656127\n",
      "Iteration 51, loss = 0.11650940\n",
      "Iteration 52, loss = 0.11627592\n",
      "Iteration 53, loss = 0.11598180\n",
      "Iteration 54, loss = 0.11549422\n",
      "Iteration 55, loss = 0.11521378\n",
      "Iteration 56, loss = 0.11498467\n",
      "Iteration 57, loss = 0.11537734\n",
      "Iteration 58, loss = 0.11400905\n",
      "Iteration 59, loss = 0.11398318\n",
      "Iteration 60, loss = 0.11443158\n",
      "Iteration 61, loss = 0.11430936\n",
      "Iteration 62, loss = 0.11335177\n",
      "Iteration 63, loss = 0.11395725\n",
      "Iteration 64, loss = 0.11356716\n",
      "Iteration 65, loss = 0.11287274\n",
      "Iteration 66, loss = 0.11247694\n",
      "Iteration 67, loss = 0.11255721\n",
      "Iteration 68, loss = 0.11222494\n",
      "Iteration 69, loss = 0.11188963\n",
      "Iteration 70, loss = 0.11286853\n",
      "Iteration 71, loss = 0.11120304\n",
      "Iteration 72, loss = 0.11134286\n",
      "Iteration 73, loss = 0.11161489\n",
      "Iteration 74, loss = 0.11114730\n",
      "Iteration 75, loss = 0.11166180\n",
      "Iteration 76, loss = 0.11051503\n",
      "Iteration 77, loss = 0.11035626\n",
      "Iteration 78, loss = 0.11180436\n",
      "Iteration 79, loss = 0.11037897\n",
      "Iteration 80, loss = 0.11040030\n",
      "Iteration 81, loss = 0.11063113\n",
      "Iteration 82, loss = 0.10979858\n",
      "Iteration 83, loss = 0.10896890\n",
      "Iteration 84, loss = 0.10984166\n",
      "Iteration 85, loss = 0.10967400\n",
      "Iteration 86, loss = 0.10958274\n",
      "Iteration 87, loss = 0.10870300\n",
      "Iteration 88, loss = 0.11050959\n",
      "Iteration 89, loss = 0.10831070\n",
      "Iteration 90, loss = 0.10858935\n",
      "Iteration 91, loss = 0.10826247\n",
      "Iteration 92, loss = 0.10803885\n",
      "Iteration 93, loss = 0.10769884\n",
      "Iteration 94, loss = 0.10797350\n",
      "Iteration 95, loss = 0.10779213\n",
      "Iteration 96, loss = 0.10755035\n",
      "Iteration 97, loss = 0.10827132\n",
      "Iteration 98, loss = 0.10757058\n",
      "Iteration 99, loss = 0.10761492\n",
      "Iteration 100, loss = 0.10821718\n",
      "Iteration 101, loss = 0.10731718\n",
      "Iteration 102, loss = 0.10765189\n",
      "Iteration 103, loss = 0.10738909\n",
      "Iteration 104, loss = 0.10721066\n",
      "Iteration 105, loss = 0.10719764\n",
      "Iteration 106, loss = 0.10645304\n",
      "Iteration 107, loss = 0.10688220\n",
      "Iteration 108, loss = 0.10648067\n",
      "Iteration 109, loss = 0.10651251\n",
      "Iteration 110, loss = 0.10705663\n",
      "Iteration 111, loss = 0.10624394\n",
      "Iteration 112, loss = 0.10632127\n",
      "Iteration 113, loss = 0.10547560\n",
      "Iteration 114, loss = 0.10674558\n",
      "Iteration 115, loss = 0.10578547\n",
      "Iteration 116, loss = 0.10595911\n",
      "Iteration 117, loss = 0.10569852\n",
      "Iteration 118, loss = 0.10579955\n",
      "Iteration 119, loss = 0.10615163\n",
      "Iteration 120, loss = 0.10618154\n",
      "Iteration 121, loss = 0.10536644\n",
      "Iteration 122, loss = 0.10521258\n",
      "Iteration 123, loss = 0.10500223\n",
      "Iteration 124, loss = 0.10503959\n",
      "Iteration 125, loss = 0.10545606\n",
      "Iteration 126, loss = 0.10558918\n",
      "Iteration 127, loss = 0.10469488\n",
      "Iteration 128, loss = 0.10472119\n",
      "Iteration 129, loss = 0.10437277\n",
      "Iteration 130, loss = 0.10460305\n",
      "Iteration 131, loss = 0.10386959\n",
      "Iteration 132, loss = 0.10525711\n",
      "Iteration 133, loss = 0.10414583\n",
      "Iteration 134, loss = 0.10400359\n",
      "Iteration 135, loss = 0.10489401\n",
      "Iteration 136, loss = 0.10418976\n",
      "Iteration 137, loss = 0.10416922\n",
      "Iteration 138, loss = 0.10329374\n",
      "Iteration 139, loss = 0.10341931\n",
      "Iteration 140, loss = 0.10407435\n",
      "Iteration 141, loss = 0.10303042\n",
      "Iteration 142, loss = 0.10293261\n",
      "Iteration 143, loss = 0.10335250\n",
      "Iteration 144, loss = 0.10305727\n",
      "Iteration 145, loss = 0.10369417\n",
      "Iteration 146, loss = 0.10357356\n",
      "Iteration 147, loss = 0.10302592\n",
      "Iteration 148, loss = 0.10311753\n",
      "Iteration 149, loss = 0.10259397\n",
      "Iteration 150, loss = 0.10264354\n",
      "Iteration 151, loss = 0.10257833\n",
      "Iteration 152, loss = 0.10231839\n",
      "Iteration 153, loss = 0.10208482\n",
      "Iteration 154, loss = 0.10268905\n",
      "Iteration 155, loss = 0.10190399\n",
      "Iteration 156, loss = 0.10203019\n",
      "Iteration 157, loss = 0.10178217\n",
      "Iteration 158, loss = 0.10134940\n",
      "Iteration 159, loss = 0.10202489\n",
      "Iteration 160, loss = 0.10202304\n",
      "Iteration 161, loss = 0.10145619\n",
      "Iteration 162, loss = 0.10189492\n",
      "Iteration 163, loss = 0.10381323\n",
      "Iteration 164, loss = 0.10131644\n",
      "Iteration 165, loss = 0.10078871\n",
      "Iteration 166, loss = 0.10213338\n",
      "Iteration 167, loss = 0.10086088\n",
      "Iteration 168, loss = 0.10057154\n",
      "Iteration 169, loss = 0.10166253\n",
      "Iteration 170, loss = 0.10049801\n",
      "Iteration 171, loss = 0.10154887\n",
      "Iteration 172, loss = 0.10094685\n",
      "Iteration 173, loss = 0.10062219\n",
      "Iteration 174, loss = 0.10031498\n",
      "Iteration 175, loss = 0.10070333\n",
      "Iteration 176, loss = 0.10002001\n",
      "Iteration 177, loss = 0.10021564\n",
      "Iteration 178, loss = 0.10053973\n",
      "Iteration 179, loss = 0.10020869\n",
      "Iteration 180, loss = 0.09994776\n",
      "Iteration 181, loss = 0.10045670\n",
      "Iteration 182, loss = 0.09984957\n",
      "Iteration 183, loss = 0.09998849\n",
      "Iteration 184, loss = 0.09990503\n",
      "Iteration 185, loss = 0.09987017\n",
      "Iteration 186, loss = 0.09955561\n",
      "Iteration 187, loss = 0.09962271\n",
      "Iteration 188, loss = 0.09986259\n",
      "Iteration 189, loss = 0.09972471\n",
      "Iteration 190, loss = 0.09960477\n",
      "Iteration 191, loss = 0.09917204\n",
      "Iteration 192, loss = 0.09957326\n",
      "Iteration 193, loss = 0.09903006\n",
      "Iteration 194, loss = 0.09872901\n",
      "Iteration 195, loss = 0.09842897\n",
      "Iteration 196, loss = 0.09843183\n",
      "Iteration 197, loss = 0.09887476\n",
      "Iteration 198, loss = 0.09884174\n",
      "Iteration 199, loss = 0.09939514\n",
      "Iteration 200, loss = 0.09893955\n",
      "Iteration 201, loss = 0.09920385\n",
      "Iteration 202, loss = 0.09814845\n",
      "Iteration 203, loss = 0.09849922\n",
      "Iteration 204, loss = 0.09826303\n",
      "Iteration 205, loss = 0.09838804\n",
      "Iteration 206, loss = 0.09874759\n",
      "Iteration 207, loss = 0.09834711\n",
      "Iteration 208, loss = 0.09877853\n",
      "Iteration 209, loss = 0.09822979\n",
      "Iteration 210, loss = 0.09831759\n",
      "Iteration 211, loss = 0.09847020\n",
      "Iteration 212, loss = 0.09787316\n",
      "Iteration 213, loss = 0.09797743\n",
      "Iteration 214, loss = 0.09826548\n",
      "Iteration 215, loss = 0.09823748\n",
      "Iteration 216, loss = 0.09773706\n",
      "Iteration 217, loss = 0.09739373\n",
      "Iteration 218, loss = 0.09819162\n",
      "Iteration 219, loss = 0.09801966\n",
      "Iteration 220, loss = 0.09762775\n",
      "Iteration 221, loss = 0.09746360\n",
      "Iteration 222, loss = 0.09796141\n",
      "Iteration 223, loss = 0.09805012\n",
      "Iteration 224, loss = 0.09738624\n",
      "Iteration 225, loss = 0.09727120\n",
      "Iteration 226, loss = 0.09768010\n",
      "Iteration 227, loss = 0.09673194\n",
      "Iteration 228, loss = 0.09676490\n",
      "Iteration 229, loss = 0.09709035\n",
      "Iteration 230, loss = 0.09818725\n",
      "Iteration 231, loss = 0.09853559\n",
      "Iteration 232, loss = 0.09673271\n",
      "Iteration 233, loss = 0.09664654\n",
      "Iteration 234, loss = 0.09867525\n",
      "Iteration 235, loss = 0.09707829\n",
      "Iteration 236, loss = 0.09694983\n",
      "Iteration 237, loss = 0.09645839\n",
      "Iteration 238, loss = 0.09645629\n",
      "Iteration 239, loss = 0.09608301\n",
      "Iteration 240, loss = 0.09598582\n",
      "Iteration 241, loss = 0.09706797\n",
      "Iteration 242, loss = 0.09719153\n",
      "Iteration 243, loss = 0.09686212\n",
      "Iteration 244, loss = 0.09627269\n",
      "Iteration 245, loss = 0.09663340\n",
      "Iteration 246, loss = 0.09626245\n",
      "Iteration 247, loss = 0.09582863\n",
      "Iteration 248, loss = 0.09590079\n",
      "Iteration 249, loss = 0.09600992\n",
      "Iteration 250, loss = 0.09867356\n",
      "Iteration 251, loss = 0.09916615\n"
     ]
    },
    {
     "name": "stdout",
     "output_type": "stream",
     "text": [
      "Iteration 252, loss = 0.09601423\n",
      "Iteration 253, loss = 0.09562769\n",
      "Iteration 254, loss = 0.09596035\n",
      "Iteration 255, loss = 0.09563509\n",
      "Iteration 256, loss = 0.09595721\n",
      "Iteration 257, loss = 0.09551455\n",
      "Iteration 258, loss = 0.09670041\n",
      "Iteration 259, loss = 0.09556917\n",
      "Iteration 260, loss = 0.09647499\n",
      "Iteration 261, loss = 0.09596606\n",
      "Iteration 262, loss = 0.09568483\n",
      "Iteration 263, loss = 0.09549159\n",
      "Iteration 264, loss = 0.09548804\n",
      "Iteration 265, loss = 0.09605079\n",
      "Iteration 266, loss = 0.09547925\n",
      "Iteration 267, loss = 0.09561936\n",
      "Iteration 268, loss = 0.09604062\n",
      "Training loss did not improve more than tol=0.000100 for 10 consecutive epochs. Stopping.\n"
     ]
    },
    {
     "data": {
      "text/plain": [
       "MLPRegressor(activation='relu', alpha=0.0001, batch_size='auto', beta_1=0.9,\n",
       "             beta_2=0.999, early_stopping=False, epsilon=1e-08,\n",
       "             hidden_layer_sizes=(30, 30), learning_rate='constant',\n",
       "             learning_rate_init=0.001, max_fun=15000, max_iter=1000,\n",
       "             momentum=0.9, n_iter_no_change=10, nesterovs_momentum=True,\n",
       "             power_t=0.5, random_state=None, shuffle=True, solver='adam',\n",
       "             tol=0.0001, validation_fraction=0.1, verbose=True,\n",
       "             warm_start=False)"
      ]
     },
     "execution_count": 126,
     "metadata": {},
     "output_type": "execute_result"
    }
   ],
   "source": [
    "clf.fit(X_train, Y_train)"
   ]
  },
  {
   "cell_type": "code",
   "execution_count": 127,
   "metadata": {},
   "outputs": [],
   "source": [
    "Y_pred = clf.predict(X_test)"
   ]
  },
  {
   "cell_type": "code",
   "execution_count": 128,
   "metadata": {},
   "outputs": [
    {
     "name": "stdout",
     "output_type": "stream",
     "text": [
      "Mean squared error: 0.33\n",
      "Coefficient of determination: 0.64\n"
     ]
    }
   ],
   "source": [
    "print(f'Mean squared error: {mean_squared_error(Y_test, Y_pred):.2f}')\n",
    "# R²\n",
    "print(f'Coefficient of determination: {r2_score(Y_test, Y_pred):.2f}')"
   ]
  },
  {
   "cell_type": "code",
   "execution_count": 129,
   "metadata": {},
   "outputs": [],
   "source": [
    "clf2 = MLPRegressor(hidden_layer_sizes=(50,40,30), verbose=True, max_iter=1000)"
   ]
  },
  {
   "cell_type": "code",
   "execution_count": 130,
   "metadata": {},
   "outputs": [
    {
     "name": "stdout",
     "output_type": "stream",
     "text": [
      "Iteration 1, loss = 0.21234889\n",
      "Iteration 2, loss = 0.16886611\n",
      "Iteration 3, loss = 0.15965096\n",
      "Iteration 4, loss = 0.15380971\n",
      "Iteration 5, loss = 0.15099564\n",
      "Iteration 6, loss = 0.14682978\n",
      "Iteration 7, loss = 0.14412873\n",
      "Iteration 8, loss = 0.14048138\n",
      "Iteration 9, loss = 0.13872143\n",
      "Iteration 10, loss = 0.13591878\n",
      "Iteration 11, loss = 0.13493099\n",
      "Iteration 12, loss = 0.13262910\n",
      "Iteration 13, loss = 0.13177401\n",
      "Iteration 14, loss = 0.12947549\n",
      "Iteration 15, loss = 0.12792477\n",
      "Iteration 16, loss = 0.12545935\n",
      "Iteration 17, loss = 0.12608739\n",
      "Iteration 18, loss = 0.12321689\n",
      "Iteration 19, loss = 0.12284346\n",
      "Iteration 20, loss = 0.12158540\n",
      "Iteration 21, loss = 0.12042322\n",
      "Iteration 22, loss = 0.11887379\n",
      "Iteration 23, loss = 0.11871358\n",
      "Iteration 24, loss = 0.11765222\n",
      "Iteration 25, loss = 0.11551919\n",
      "Iteration 26, loss = 0.11416198\n",
      "Iteration 27, loss = 0.11497245\n",
      "Iteration 28, loss = 0.11288979\n",
      "Iteration 29, loss = 0.11100076\n",
      "Iteration 30, loss = 0.11005133\n",
      "Iteration 31, loss = 0.10889051\n",
      "Iteration 32, loss = 0.10852638\n",
      "Iteration 33, loss = 0.10725464\n",
      "Iteration 34, loss = 0.10720264\n",
      "Iteration 35, loss = 0.10507085\n",
      "Iteration 36, loss = 0.10391255\n",
      "Iteration 37, loss = 0.10395696\n",
      "Iteration 38, loss = 0.10353895\n",
      "Iteration 39, loss = 0.10239459\n",
      "Iteration 40, loss = 0.10132442\n",
      "Iteration 41, loss = 0.10019903\n",
      "Iteration 42, loss = 0.10023487\n",
      "Iteration 43, loss = 0.10034187\n",
      "Iteration 44, loss = 0.09889225\n",
      "Iteration 45, loss = 0.10031869\n",
      "Iteration 46, loss = 0.09827842\n",
      "Iteration 47, loss = 0.09794294\n",
      "Iteration 48, loss = 0.09573523\n",
      "Iteration 49, loss = 0.09628975\n",
      "Iteration 50, loss = 0.09478590\n",
      "Iteration 51, loss = 0.09338620\n",
      "Iteration 52, loss = 0.09377356\n",
      "Iteration 53, loss = 0.09315453\n",
      "Iteration 54, loss = 0.09148323\n",
      "Iteration 55, loss = 0.09279703\n",
      "Iteration 56, loss = 0.09331822\n",
      "Iteration 57, loss = 0.08964070\n",
      "Iteration 58, loss = 0.08946692\n",
      "Iteration 59, loss = 0.09024334\n",
      "Iteration 60, loss = 0.08927776\n",
      "Iteration 61, loss = 0.08813600\n",
      "Iteration 62, loss = 0.08734177\n",
      "Iteration 63, loss = 0.09037315\n",
      "Iteration 64, loss = 0.08892330\n",
      "Iteration 65, loss = 0.08749498\n",
      "Iteration 66, loss = 0.08581331\n",
      "Iteration 67, loss = 0.08547602\n",
      "Iteration 68, loss = 0.08517562\n",
      "Iteration 69, loss = 0.08465968\n",
      "Iteration 70, loss = 0.08492495\n",
      "Iteration 71, loss = 0.08551913\n",
      "Iteration 72, loss = 0.08407970\n",
      "Iteration 73, loss = 0.08315304\n",
      "Iteration 74, loss = 0.08359245\n",
      "Iteration 75, loss = 0.08316512\n",
      "Iteration 76, loss = 0.08186922\n",
      "Iteration 77, loss = 0.08120278\n",
      "Iteration 78, loss = 0.08061362\n",
      "Iteration 79, loss = 0.07963060\n",
      "Iteration 80, loss = 0.07877392\n",
      "Iteration 81, loss = 0.08071883\n",
      "Iteration 82, loss = 0.07997735\n",
      "Iteration 83, loss = 0.07948987\n",
      "Iteration 84, loss = 0.07860227\n",
      "Iteration 85, loss = 0.08020071\n",
      "Iteration 86, loss = 0.07900472\n",
      "Iteration 87, loss = 0.07785782\n",
      "Iteration 88, loss = 0.07850534\n",
      "Iteration 89, loss = 0.07721134\n",
      "Iteration 90, loss = 0.07664088\n",
      "Iteration 91, loss = 0.07636036\n",
      "Iteration 92, loss = 0.07578248\n",
      "Iteration 93, loss = 0.08091934\n",
      "Iteration 94, loss = 0.07852917\n",
      "Iteration 95, loss = 0.07488860\n",
      "Iteration 96, loss = 0.07484252\n",
      "Iteration 97, loss = 0.07456650\n",
      "Iteration 98, loss = 0.07429514\n",
      "Iteration 99, loss = 0.07411029\n",
      "Iteration 100, loss = 0.07456530\n",
      "Iteration 101, loss = 0.07589101\n",
      "Iteration 102, loss = 0.07764956\n",
      "Iteration 103, loss = 0.07376049\n",
      "Iteration 104, loss = 0.07458914\n",
      "Iteration 105, loss = 0.07474200\n",
      "Iteration 106, loss = 0.07486540\n",
      "Iteration 107, loss = 0.07516472\n",
      "Iteration 108, loss = 0.07358530\n",
      "Iteration 109, loss = 0.07290472\n",
      "Iteration 110, loss = 0.07258558\n",
      "Iteration 111, loss = 0.07191819\n",
      "Iteration 112, loss = 0.07285459\n",
      "Iteration 113, loss = 0.07208647\n",
      "Iteration 114, loss = 0.07336276\n",
      "Iteration 115, loss = 0.07233899\n",
      "Iteration 116, loss = 0.07117537\n",
      "Iteration 117, loss = 0.07066417\n",
      "Iteration 118, loss = 0.07043958\n",
      "Iteration 119, loss = 0.07054187\n",
      "Iteration 120, loss = 0.06938730\n",
      "Iteration 121, loss = 0.07121368\n",
      "Iteration 122, loss = 0.06996302\n",
      "Iteration 123, loss = 0.07063520\n",
      "Iteration 124, loss = 0.07417171\n",
      "Iteration 125, loss = 0.07160578\n",
      "Iteration 126, loss = 0.07023375\n",
      "Iteration 127, loss = 0.06921539\n",
      "Iteration 128, loss = 0.07092392\n",
      "Iteration 129, loss = 0.06881837\n",
      "Iteration 130, loss = 0.06963204\n",
      "Iteration 131, loss = 0.07121973\n",
      "Iteration 132, loss = 0.07079651\n",
      "Iteration 133, loss = 0.06931561\n",
      "Iteration 134, loss = 0.06807036\n",
      "Iteration 135, loss = 0.06833434\n",
      "Iteration 136, loss = 0.06789563\n",
      "Iteration 137, loss = 0.06811335\n",
      "Iteration 138, loss = 0.06841771\n",
      "Iteration 139, loss = 0.07058982\n",
      "Iteration 140, loss = 0.06849364\n",
      "Iteration 141, loss = 0.07045245\n",
      "Iteration 142, loss = 0.06942643\n",
      "Iteration 143, loss = 0.06909911\n",
      "Iteration 144, loss = 0.06705670\n",
      "Iteration 145, loss = 0.06729853\n",
      "Iteration 146, loss = 0.06688392\n",
      "Iteration 147, loss = 0.06715364\n",
      "Iteration 148, loss = 0.06715225\n",
      "Iteration 149, loss = 0.06659317\n",
      "Iteration 150, loss = 0.06952027\n",
      "Iteration 151, loss = 0.06934875\n",
      "Iteration 152, loss = 0.06680389\n",
      "Iteration 153, loss = 0.06608300\n",
      "Iteration 154, loss = 0.06556656\n",
      "Iteration 155, loss = 0.06739828\n",
      "Iteration 156, loss = 0.06635208\n",
      "Iteration 157, loss = 0.06688881\n",
      "Iteration 158, loss = 0.06752565\n",
      "Iteration 159, loss = 0.06814234\n",
      "Iteration 160, loss = 0.06632162\n",
      "Iteration 161, loss = 0.06879570\n",
      "Iteration 162, loss = 0.06704932\n",
      "Iteration 163, loss = 0.06591329\n",
      "Iteration 164, loss = 0.06498750\n",
      "Iteration 165, loss = 0.06581256\n",
      "Iteration 166, loss = 0.06816239\n",
      "Iteration 167, loss = 0.06763143\n",
      "Iteration 168, loss = 0.06637509\n",
      "Iteration 169, loss = 0.06480652\n",
      "Iteration 170, loss = 0.06409483\n",
      "Iteration 171, loss = 0.06467682\n",
      "Iteration 172, loss = 0.06522349\n",
      "Iteration 173, loss = 0.06398180\n",
      "Iteration 174, loss = 0.06461811\n",
      "Iteration 175, loss = 0.06519581\n",
      "Iteration 176, loss = 0.06410311\n",
      "Iteration 177, loss = 0.06590191\n",
      "Iteration 178, loss = 0.06632951\n",
      "Iteration 179, loss = 0.06589345\n",
      "Iteration 180, loss = 0.06550081\n",
      "Iteration 181, loss = 0.06502290\n",
      "Iteration 182, loss = 0.06456724\n",
      "Iteration 183, loss = 0.06364106\n",
      "Iteration 184, loss = 0.06367235\n",
      "Iteration 185, loss = 0.06435910\n",
      "Iteration 186, loss = 0.06345656\n",
      "Iteration 187, loss = 0.06347755\n",
      "Iteration 188, loss = 0.06416673\n",
      "Iteration 189, loss = 0.06445494\n",
      "Iteration 190, loss = 0.06385954\n",
      "Iteration 191, loss = 0.06627889\n",
      "Iteration 192, loss = 0.06482461\n",
      "Iteration 193, loss = 0.06296470\n",
      "Iteration 194, loss = 0.06251179\n",
      "Iteration 195, loss = 0.06210500\n",
      "Iteration 196, loss = 0.06217314\n",
      "Iteration 197, loss = 0.06622634\n",
      "Iteration 198, loss = 0.06364531\n",
      "Iteration 199, loss = 0.06292609\n",
      "Iteration 200, loss = 0.06208048\n",
      "Iteration 201, loss = 0.06235109\n",
      "Iteration 202, loss = 0.06356487\n",
      "Iteration 203, loss = 0.06576031\n",
      "Iteration 204, loss = 0.06300325\n",
      "Iteration 205, loss = 0.06206732\n",
      "Iteration 206, loss = 0.06193667\n",
      "Iteration 207, loss = 0.06212849\n",
      "Iteration 208, loss = 0.06164292\n",
      "Iteration 209, loss = 0.06116289\n",
      "Iteration 210, loss = 0.06160613\n",
      "Iteration 211, loss = 0.06466202\n",
      "Iteration 212, loss = 0.06326087\n",
      "Iteration 213, loss = 0.06149657\n",
      "Iteration 214, loss = 0.06206526\n",
      "Iteration 215, loss = 0.06225865\n",
      "Iteration 216, loss = 0.06149938\n",
      "Iteration 217, loss = 0.06166013\n",
      "Iteration 218, loss = 0.06285594\n",
      "Iteration 219, loss = 0.06328074\n",
      "Iteration 220, loss = 0.06203663\n",
      "Training loss did not improve more than tol=0.000100 for 10 consecutive epochs. Stopping.\n"
     ]
    },
    {
     "data": {
      "text/plain": [
       "MLPRegressor(activation='relu', alpha=0.0001, batch_size='auto', beta_1=0.9,\n",
       "             beta_2=0.999, early_stopping=False, epsilon=1e-08,\n",
       "             hidden_layer_sizes=(50, 40, 30), learning_rate='constant',\n",
       "             learning_rate_init=0.001, max_fun=15000, max_iter=1000,\n",
       "             momentum=0.9, n_iter_no_change=10, nesterovs_momentum=True,\n",
       "             power_t=0.5, random_state=None, shuffle=True, solver='adam',\n",
       "             tol=0.0001, validation_fraction=0.1, verbose=True,\n",
       "             warm_start=False)"
      ]
     },
     "execution_count": 130,
     "metadata": {},
     "output_type": "execute_result"
    }
   ],
   "source": [
    "clf2.fit(X_train, Y_train)"
   ]
  },
  {
   "cell_type": "code",
   "execution_count": 133,
   "metadata": {},
   "outputs": [
    {
     "name": "stdout",
     "output_type": "stream",
     "text": [
      "Mean squared error: 0.33\n",
      "Coefficient of determination: 0.64\n",
      "Mean absolute error: 0.33\n"
     ]
    }
   ],
   "source": [
    "Y_pred = clf.predict(X_test)\n",
    "print(f'Mean squared error: {mean_squared_error(Y_test, Y_pred):.2f}')\n",
    "# R²\n",
    "print(f'Coefficient of determination: {r2_score(Y_test, Y_pred):.2f}')\n",
    "print(f'Mean absolute error: {mean_absolute_error(Y_test, Y_pred):.2f}')\n"
   ]
  },
  {
   "cell_type": "code",
   "execution_count": null,
   "metadata": {},
   "outputs": [],
   "source": []
  }
 ],
 "metadata": {
  "kernelspec": {
   "display_name": "Python 3.8.1 64-bit ('mow': conda)",
   "language": "python",
   "name": "python38164bitmowcondace80877d60d2488bb6eb40f399b49885"
  },
  "language_info": {
   "codemirror_mode": {
    "name": "ipython",
    "version": 3
   },
   "file_extension": ".py",
   "mimetype": "text/x-python",
   "name": "python",
   "nbconvert_exporter": "python",
   "pygments_lexer": "ipython3",
   "version": "3.8.2"
  }
 },
 "nbformat": 4,
 "nbformat_minor": 4
}
